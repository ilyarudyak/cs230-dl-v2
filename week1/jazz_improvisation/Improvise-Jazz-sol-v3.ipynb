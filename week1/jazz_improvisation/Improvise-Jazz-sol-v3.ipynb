{
 "cells": [
  {
   "cell_type": "markdown",
   "metadata": {},
   "source": [
    "# Improvise a Jazz Solo with an LSTM Network\n",
    "\n",
    "Welcome to your final programming assignment of this week! In this notebook, you will implement a model that uses an LSTM to generate music. You will even be able to listen to your own music at the end of the assignment. \n",
    "\n",
    "**You will learn to:**\n",
    "- Apply an LSTM to music generation.\n",
    "- Generate your own jazz music with deep learning.\n",
    "\n",
    "Please run the following cell to load all the packages required in this assignment. This may take a few minutes. "
   ]
  },
  {
   "cell_type": "code",
   "execution_count": 1,
   "metadata": {},
   "outputs": [
    {
     "name": "stderr",
     "output_type": "stream",
     "text": [
      "Using TensorFlow backend.\n"
     ]
    }
   ],
   "source": [
    "from __future__ import print_function\n",
    "import IPython\n",
    "import sys\n",
    "from music21 import *\n",
    "import numpy as np\n",
    "from grammar import *\n",
    "from qa import *\n",
    "from preprocess import * \n",
    "from music_utils import *\n",
    "from data_utils import *\n",
    "from keras.models import load_model, Model\n",
    "from keras.layers import Dense, Activation, Dropout, Input, LSTM, Reshape, Lambda, RepeatVector\n",
    "from keras.initializers import glorot_uniform\n",
    "from keras.utils import to_categorical\n",
    "from keras.optimizers import Adam\n",
    "from keras import backend as K"
   ]
  },
  {
   "cell_type": "markdown",
   "metadata": {},
   "source": [
    "## 1 - Problem statement\n",
    "\n",
    "You would like to create a jazz music piece specially for a friend's birthday. However, you don't know any instruments or music composition. Fortunately, you know deep learning and will solve this problem using an LSTM netwok.  \n",
    "\n",
    "You will train a network to generate novel jazz solos in a style representative of a body of performed work.\n",
    "\n",
    "<img src=\"images/jazz.jpg\" style=\"width:450;height:300px;\">\n",
    "\n",
    "\n",
    "### 1.1 - Dataset\n",
    "\n",
    "You will train your algorithm on a corpus of Jazz music. Run the cell below to listen to a snippet of the audio from the training set:"
   ]
  },
  {
   "cell_type": "code",
   "execution_count": null,
   "metadata": {},
   "outputs": [],
   "source": [
    "IPython.display.Audio('./data/30s_seq.mp3')"
   ]
  },
  {
   "cell_type": "markdown",
   "metadata": {},
   "source": [
    "We have taken care of the preprocessing of the musical data to render it in terms of musical \"values.\" You can informally think of each \"value\" as a note, which comprises a pitch and a duration. For example, if you press down a specific piano key for 0.5 seconds, then you have just played a note. In music theory, a \"value\" is actually more complicated than this--specifically, it also captures the information needed to play multiple notes at the same time. For example, when playing a music piece, you might press down two piano keys at the same time (playng multiple notes at the same time generates what's called a \"chord\"). But we don't need to worry about the details of music theory for this assignment. For the purpose of this assignment, all you need to know is that we will obtain a dataset of values, and will learn an RNN model to generate sequences of values. \n",
    "\n",
    "Our music generation system will use 78 unique values. Run the following code to load the raw music data and preprocess it into values. This might take a few minutes."
   ]
  },
  {
   "cell_type": "code",
   "execution_count": 2,
   "metadata": {},
   "outputs": [
    {
     "name": "stdout",
     "output_type": "stream",
     "text": [
      "shape of X: (60, 30, 78)\n",
      "number of training examples: 60\n",
      "Tx (length of sequence): 30\n",
      "total # of unique values: 78\n",
      "Shape of Y: (30, 60, 78)\n"
     ]
    }
   ],
   "source": [
    "X, Y, n_values, indices_values = load_music_utils()\n",
    "print('shape of X:', X.shape)\n",
    "print('number of training examples:', X.shape[0])\n",
    "print('Tx (length of sequence):', X.shape[1])\n",
    "print('total # of unique values:', n_values)\n",
    "print('Shape of Y:', Y.shape)"
   ]
  },
  {
   "cell_type": "markdown",
   "metadata": {},
   "source": [
    "You have just loaded the following:\n",
    "\n",
    "- `X`: This is an (m, $T_x$, 78) dimensional array. We have m training examples, each of which is a snippet of $T_x =30$ musical values. At each time step, the input is one of 78 different possible values, represented as a one-hot vector. Thus for example, X[i,t,:] is a one-hot vector representating the value of the i-th example at time t. \n",
    "\n",
    "- `Y`: This is essentially the same as `X`, but shifted one step to the left (to the past). Similar to the dinosaurus assignment, we're interested in the network using the previous values to predict the next value, so our sequence model will try to predict $y^{\\langle t \\rangle}$ given $x^{\\langle 1\\rangle}, \\ldots, x^{\\langle t \\rangle}$. However, the data in `Y` is reordered to be dimension $(T_y, m, 78)$, where $T_y = T_x$. This format makes it more convenient to feed to the LSTM later. \n",
    "\n",
    "- `n_values`: The number of unique values in this dataset. This should be 78. \n",
    "\n",
    "- `indices_values`: python dictionary mapping from 0-77 to musical values."
   ]
  },
  {
   "cell_type": "markdown",
   "metadata": {},
   "source": [
    "### 1.2 - Overview of our model\n",
    "\n",
    "Here is the architecture of the model we will use. This is similar to the Dinosaurus model you had used in the previous notebook, except that in you will be implementing it in Keras. The architecture is as follows: \n",
    "\n",
    "<img src=\"images/music_generation.png\" style=\"width:600;height:400px;\">\n",
    "\n",
    "<!--\n",
    "<img src=\"images/djmodel.png\" style=\"width:600;height:400px;\">\n",
    "<br>\n",
    "<caption><center> **Figure 1**: LSTM model. $X = (x^{\\langle 1 \\rangle}, x^{\\langle 2 \\rangle}, ..., x^{\\langle T_x \\rangle})$ is a window of size $T_x$ scanned over the musical corpus. Each $x^{\\langle t \\rangle}$ is an index corresponding to a value (ex: \"A,0.250,< m2,P-4 >\") while $\\hat{y}$ is the prediction for the next value  </center></caption>\n",
    "!--> \n",
    "\n",
    "We will be training the model on random snippets of 30 values taken from a much longer piece of music. Thus, we won't bother to set the first input $x^{\\langle 1 \\rangle} = \\vec{0}$, which we had done previously to denote the start of a dinosaur name, since now most of these snippets of audio start somewhere in the middle of a piece of music. We are setting each of the snippts to have the same length $T_x = 30$ to make vectorization easier. \n"
   ]
  },
  {
   "cell_type": "markdown",
   "metadata": {},
   "source": [
    "## 2 - Building the model\n",
    "\n",
    "In this part you will build and train a model that will learn musical patterns. To do so, you will need to build a model that takes in X of shape $(m, T_x, 78)$ and Y of shape $(T_y, m, 78)$. We will use an LSTM with 64 dimensional hidden states. Lets set `n_a = 64`. \n"
   ]
  },
  {
   "cell_type": "code",
   "execution_count": 3,
   "metadata": {},
   "outputs": [],
   "source": [
    "n_a = 64 "
   ]
  },
  {
   "cell_type": "markdown",
   "metadata": {},
   "source": [
    "\n",
    "Here's how you can create a Keras model with multiple inputs and outputs. If you're building an RNN where even at test time entire input sequence $x^{\\langle 1 \\rangle}, x^{\\langle 2 \\rangle}, \\ldots, x^{\\langle T_x \\rangle}$ were *given in advance*, for example if the inputs were words and the output was a label, then Keras has simple built-in functions to build the model. However, for sequence generation, at test time we don't know all the values of $x^{\\langle t\\rangle}$ in advance; instead we generate them one at a time using $x^{\\langle t\\rangle} = y^{\\langle t-1 \\rangle}$. So the code will be a bit more complicated, and you'll need to implement your own for-loop to iterate over the different time steps. \n",
    "\n",
    "The function `djmodel()` will call the LSTM layer $T_x$ times using a for-loop, and it is important that all $T_x$ copies have the same weights. I.e., it should not re-initiaiize the weights every time---the $T_x$ steps should have shared weights. The key steps for implementing layers with shareable weights in Keras are: \n",
    "1. Define the layer objects (we will use global variables for this).\n",
    "2. Call these objects when propagating the input.\n",
    "\n",
    "We have defined the layers objects you need as global variables. Please run the next cell to create them. Please check the Keras documentation to make sure you understand what these layers are: [Reshape()](https://keras.io/layers/core/#reshape), [LSTM()](https://keras.io/layers/recurrent/#lstm), [Dense()](https://keras.io/layers/core/#dense).\n"
   ]
  },
  {
   "cell_type": "code",
   "execution_count": 4,
   "metadata": {},
   "outputs": [],
   "source": [
    "reshapor = Reshape((1, 78))                        # Used in Step 2.B of djmodel(), below\n",
    "LSTM_cell = LSTM(n_a, return_state = True)         # Used in Step 2.C\n",
    "densor = Dense(n_values, activation='softmax')     # Used in Step 2.D"
   ]
  },
  {
   "cell_type": "markdown",
   "metadata": {},
   "source": [
    "Each of `reshapor`, `LSTM_cell` and `densor` are now layer objects, and you can use them to implement `djmodel()`. In order to propagate a Keras tensor object X through one of these layers, use `layer_object(X)` (or `layer_object([X,Y])` if it requires multiple inputs.). For example, `reshapor(X)` will propagate X through the `Reshape((1,78))` layer defined above."
   ]
  },
  {
   "cell_type": "markdown",
   "metadata": {},
   "source": [
    " \n",
    "**Exercise**: Implement `djmodel()`. You will need to carry out 2 steps:\n",
    "\n",
    "1. Create an empty list \"outputs\" to save the outputs of the LSTM Cell at every time step.\n",
    "2. Loop for $t \\in 1, \\ldots, T_x$:\n",
    "\n",
    "    A. Select the \"t\"th time-step vector from X. The shape of this selection should be (78,). To do so, create a custom [Lambda](https://keras.io/layers/core/#lambda) layer in Keras by using this line of code:\n",
    "```    \n",
    "           x = Lambda(lambda x: X[:,t,:])(X)\n",
    "``` \n",
    "Look over the Keras documentation to figure out what this does. It is creating a \"temporary\" or \"unnamed\" function (that's what Lambda functions are) that extracts out the appropriate one-hot vector, and making this function a Keras `Layer` object to apply to `X`. \n",
    "\n",
    "    B. Reshape x to be (1,78). You may find the `reshapor()` layer (defined below) helpful.\n",
    "\n",
    "    C. Run x through one step of LSTM_cell. Remember to initialize the LSTM_cell with the previous step's hidden state $a$ and cell state $c$. Use the following formatting:\n",
    "```python\n",
    "a, _, c = LSTM_cell(input_x, initial_state=[previous hidden state, previous cell state])\n",
    "```\n",
    "\n",
    "    D. Propagate the LSTM's output activation value through a dense+softmax layer using `densor`. \n",
    "    \n",
    "    E. Append the predicted value to the list of \"outputs\"\n",
    " \n"
   ]
  },
  {
   "cell_type": "code",
   "execution_count": 5,
   "metadata": {},
   "outputs": [],
   "source": [
    "# GRADED FUNCTION: djmodel\n",
    "\n",
    "def djmodel(Tx, n_a, n_values):\n",
    "    \"\"\"\n",
    "    Implement the model\n",
    "    \n",
    "    Arguments:\n",
    "    Tx -- length of the sequence in a corpus\n",
    "    n_a -- the number of activations used in our model\n",
    "    n_values -- number of unique values in the music data \n",
    "    \n",
    "    Returns:\n",
    "    model -- a keras model with the \n",
    "    \"\"\"\n",
    "    \n",
    "    # Define the input of your model with a shape \n",
    "    X = Input(shape=(Tx, n_values))\n",
    "    \n",
    "    # Define s0, initial hidden state for the decoder LSTM\n",
    "    a0 = Input(shape=(n_a,), name='a0')\n",
    "    c0 = Input(shape=(n_a,), name='c0')\n",
    "    a = a0\n",
    "    c = c0\n",
    "    \n",
    "    ### START CODE HERE ### \n",
    "    # Step 1: Create empty list to append the outputs while you iterate (≈1 line)\n",
    "    outputs = list()\n",
    "    \n",
    "    # Step 2: Loop\n",
    "    for t in range(Tx):\n",
    "        \n",
    "        # Step 2.A: select the \"t\"th time step vector from X. \n",
    "        x = Lambda(lambda z: z[:,t,:])(X)\n",
    "        # Step 2.B: Use reshapor to reshape x to be (1, n_values) (≈1 line)\n",
    "        x = reshapor(x)\n",
    "        # Step 2.C: Perform one step of the LSTM_cell\n",
    "        a, _, c = LSTM_cell(x, initial_state=[a, c])\n",
    "        # Step 2.D: Apply densor to the hidden state output of LSTM_Cell\n",
    "        out = densor(a)\n",
    "        # Step 2.E: add the output to \"outputs\"\n",
    "        outputs.append(out)\n",
    "        \n",
    "    # Step 3: Create model instance\n",
    "    model = Model(inputs=[X,a0,c0], outputs=outputs)\n",
    "    \n",
    "    ### END CODE HERE ###\n",
    "    \n",
    "    return model"
   ]
  },
  {
   "cell_type": "markdown",
   "metadata": {},
   "source": [
    "Run the following cell to define your model. We will use `Tx=30`, `n_a=64` (the dimension of the LSTM activations), and `n_values=78`. This cell may take a few seconds to run. "
   ]
  },
  {
   "cell_type": "code",
   "execution_count": 6,
   "metadata": {},
   "outputs": [],
   "source": [
    "model = djmodel(Tx = 30 , n_a = 64, n_values = 78)"
   ]
  },
  {
   "cell_type": "markdown",
   "metadata": {},
   "source": [
    "You now need to compile your model to be trained. We will Adam and a categorical cross-entropy loss."
   ]
  },
  {
   "cell_type": "code",
   "execution_count": 7,
   "metadata": {},
   "outputs": [],
   "source": [
    "opt = Adam(lr=0.01, beta_1=0.9, beta_2=0.999, decay=0.01)\n",
    "\n",
    "model.compile(optimizer=opt, loss='categorical_crossentropy', metrics=['accuracy'])"
   ]
  },
  {
   "cell_type": "markdown",
   "metadata": {},
   "source": [
    "Finally, lets initialize `a0` and `c0` for the LSTM's initial state to be zero. "
   ]
  },
  {
   "cell_type": "code",
   "execution_count": 8,
   "metadata": {
    "scrolled": true
   },
   "outputs": [],
   "source": [
    "m = 60\n",
    "a0 = np.zeros((m, n_a))\n",
    "c0 = np.zeros((m, n_a))"
   ]
  },
  {
   "cell_type": "markdown",
   "metadata": {},
   "source": [
    "Lets now fit the model! We will turn `Y` to a list before doing so, since the cost function expects `Y` to be provided in this format (one list item per time-step). So `list(Y)` is a list with 30 items, where each of the list items is of shape (60,78). Lets train for 100 epochs. This will take a few minutes. \n",
    "\n"
   ]
  },
  {
   "cell_type": "code",
   "execution_count": 9,
   "metadata": {
    "scrolled": true
   },
   "outputs": [
    {
     "name": "stdout",
     "output_type": "stream",
     "text": [
      "Epoch 1/100\n",
      "60/60 [==============================] - 20s 340ms/step - loss: 125.8311 - dense_1_loss: 0.0000e+00 - dense_1_acc: 0.0167 - dense_1_acc_1: 0.0333 - dense_1_acc_2: 0.1000 - dense_1_acc_3: 0.0333 - dense_1_acc_4: 0.0167 - dense_1_acc_5: 0.0167 - dense_1_acc_6: 0.0833 - dense_1_acc_7: 0.0833 - dense_1_acc_8: 0.0333 - dense_1_acc_9: 0.0333 - dense_1_acc_10: 0.1000 - dense_1_acc_11: 0.0667 - dense_1_acc_12: 0.0333 - dense_1_acc_13: 0.0833 - dense_1_acc_14: 0.0833 - dense_1_acc_15: 0.0667 - dense_1_acc_16: 0.0333 - dense_1_acc_17: 0.0500 - dense_1_acc_18: 0.0667 - dense_1_acc_19: 0.0333 - dense_1_acc_20: 0.0833 - dense_1_acc_21: 0.0500 - dense_1_acc_22: 0.1000 - dense_1_acc_23: 0.0333 - dense_1_acc_24: 0.0167 - dense_1_acc_25: 0.1000 - dense_1_acc_26: 0.0333 - dense_1_acc_27: 0.0333 - dense_1_acc_28: 0.0667 - dense_1_acc_29: 0.0667                                                                      \n",
      "Epoch 2/100\n",
      "60/60 [==============================] - 0s 2ms/step - loss: 122.7248 - dense_1_loss: 0.0000e+00 - dense_1_acc: 0.0667 - dense_1_acc_1: 0.1833 - dense_1_acc_2: 0.2500 - dense_1_acc_3: 0.1833 - dense_1_acc_4: 0.2000 - dense_1_acc_5: 0.0833 - dense_1_acc_6: 0.1500 - dense_1_acc_7: 0.1833 - dense_1_acc_8: 0.1167 - dense_1_acc_9: 0.1667 - dense_1_acc_10: 0.1500 - dense_1_acc_11: 0.1167 - dense_1_acc_12: 0.1167 - dense_1_acc_13: 0.1500 - dense_1_acc_14: 0.1500 - dense_1_acc_15: 0.1167 - dense_1_acc_16: 0.2167 - dense_1_acc_17: 0.1000 - dense_1_acc_18: 0.1833 - dense_1_acc_19: 0.1833 - dense_1_acc_20: 0.1167 - dense_1_acc_21: 0.0833 - dense_1_acc_22: 0.1000 - dense_1_acc_23: 0.1000 - dense_1_acc_24: 0.1333 - dense_1_acc_25: 0.2000 - dense_1_acc_26: 0.1000 - dense_1_acc_27: 0.1167 - dense_1_acc_28: 0.1667 - dense_1_acc_29: 0.0000e+00\n",
      "Epoch 3/100\n",
      "60/60 [==============================] - 0s 2ms/step - loss: 116.8038 - dense_1_loss: 0.0000e+00 - dense_1_acc: 0.0667 - dense_1_acc_1: 0.1833 - dense_1_acc_2: 0.1667 - dense_1_acc_3: 0.1333 - dense_1_acc_4: 0.1833 - dense_1_acc_5: 0.0833 - dense_1_acc_6: 0.0667 - dense_1_acc_7: 0.1667 - dense_1_acc_8: 0.0667 - dense_1_acc_9: 0.0500 - dense_1_acc_10: 0.0500 - dense_1_acc_11: 0.0667 - dense_1_acc_12: 0.0333 - dense_1_acc_13: 0.0667 - dense_1_acc_14: 0.0500 - dense_1_acc_15: 0.0667 - dense_1_acc_16: 0.1167 - dense_1_acc_17: 0.0333 - dense_1_acc_18: 0.0500 - dense_1_acc_19: 0.1000 - dense_1_acc_20: 0.0667 - dense_1_acc_21: 0.0333 - dense_1_acc_22: 0.0167 - dense_1_acc_23: 0.0167 - dense_1_acc_24: 0.0833 - dense_1_acc_25: 0.1167 - dense_1_acc_26: 0.0667 - dense_1_acc_27: 0.0667 - dense_1_acc_28: 0.1167 - dense_1_acc_29: 0.0000e+00\n",
      "Epoch 4/100\n",
      "60/60 [==============================] - 0s 2ms/step - loss: 113.2043 - dense_1_loss: 0.0000e+00 - dense_1_acc: 0.1000 - dense_1_acc_1: 0.1500 - dense_1_acc_2: 0.2333 - dense_1_acc_3: 0.2000 - dense_1_acc_4: 0.2500 - dense_1_acc_5: 0.1333 - dense_1_acc_6: 0.1500 - dense_1_acc_7: 0.2167 - dense_1_acc_8: 0.1333 - dense_1_acc_9: 0.1667 - dense_1_acc_10: 0.1500 - dense_1_acc_11: 0.1000 - dense_1_acc_12: 0.1333 - dense_1_acc_13: 0.1500 - dense_1_acc_14: 0.1000 - dense_1_acc_15: 0.0667 - dense_1_acc_16: 0.0667 - dense_1_acc_17: 0.1167 - dense_1_acc_18: 0.1000 - dense_1_acc_19: 0.0000e+00 - dense_1_acc_20: 0.0500 - dense_1_acc_21: 0.1167 - dense_1_acc_22: 0.1000 - dense_1_acc_23: 0.0333 - dense_1_acc_24: 0.0500 - dense_1_acc_25: 0.0667 - dense_1_acc_26: 0.0833 - dense_1_acc_27: 0.0833 - dense_1_acc_28: 0.0167 - dense_1_acc_29: 0.0000e+00\n",
      "Epoch 5/100\n",
      "60/60 [==============================] - 0s 2ms/step - loss: 110.4104 - dense_1_loss: 0.0000e+00 - dense_1_acc: 0.1000 - dense_1_acc_1: 0.1167 - dense_1_acc_2: 0.1667 - dense_1_acc_3: 0.1333 - dense_1_acc_4: 0.2000 - dense_1_acc_5: 0.0833 - dense_1_acc_6: 0.0833 - dense_1_acc_7: 0.1000 - dense_1_acc_8: 0.1500 - dense_1_acc_9: 0.1333 - dense_1_acc_10: 0.0833 - dense_1_acc_11: 0.0333 - dense_1_acc_12: 0.0833 - dense_1_acc_13: 0.1000 - dense_1_acc_14: 0.1000 - dense_1_acc_15: 0.1000 - dense_1_acc_16: 0.1167 - dense_1_acc_17: 0.0833 - dense_1_acc_18: 0.1500 - dense_1_acc_19: 0.0667 - dense_1_acc_20: 0.0667 - dense_1_acc_21: 0.0833 - dense_1_acc_22: 0.1167 - dense_1_acc_23: 0.0833 - dense_1_acc_24: 0.0333 - dense_1_acc_25: 0.1333 - dense_1_acc_26: 0.0667 - dense_1_acc_27: 0.1333 - dense_1_acc_28: 0.0667 - dense_1_acc_29: 0.0000e+00\n",
      "Epoch 6/100\n",
      "60/60 [==============================] - 0s 2ms/step - loss: 107.6096 - dense_1_loss: 0.0000e+00 - dense_1_acc: 0.1000 - dense_1_acc_1: 0.1000 - dense_1_acc_2: 0.1667 - dense_1_acc_3: 0.1333 - dense_1_acc_4: 0.1667 - dense_1_acc_5: 0.0667 - dense_1_acc_6: 0.0833 - dense_1_acc_7: 0.1833 - dense_1_acc_8: 0.1667 - dense_1_acc_9: 0.1667 - dense_1_acc_10: 0.1333 - dense_1_acc_11: 0.1000 - dense_1_acc_12: 0.1667 - dense_1_acc_13: 0.2000 - dense_1_acc_14: 0.2000 - dense_1_acc_15: 0.1667 - dense_1_acc_16: 0.2333 - dense_1_acc_17: 0.1167 - dense_1_acc_18: 0.2000 - dense_1_acc_19: 0.1167 - dense_1_acc_20: 0.1000 - dense_1_acc_21: 0.1333 - dense_1_acc_22: 0.1333 - dense_1_acc_23: 0.1000 - dense_1_acc_24: 0.0833 - dense_1_acc_25: 0.2500 - dense_1_acc_26: 0.0667 - dense_1_acc_27: 0.1833 - dense_1_acc_28: 0.1167 - dense_1_acc_29: 0.0000e+00\n",
      "Epoch 7/100\n",
      "60/60 [==============================] - 0s 2ms/step - loss: 104.7956 - dense_1_loss: 0.0000e+00 - dense_1_acc: 0.1000 - dense_1_acc_1: 0.1000 - dense_1_acc_2: 0.1667 - dense_1_acc_3: 0.1333 - dense_1_acc_4: 0.2167 - dense_1_acc_5: 0.1000 - dense_1_acc_6: 0.1333 - dense_1_acc_7: 0.2333 - dense_1_acc_8: 0.1833 - dense_1_acc_9: 0.1667 - dense_1_acc_10: 0.1333 - dense_1_acc_11: 0.1333 - dense_1_acc_12: 0.1833 - dense_1_acc_13: 0.2167 - dense_1_acc_14: 0.2000 - dense_1_acc_15: 0.1833 - dense_1_acc_16: 0.2000 - dense_1_acc_17: 0.1500 - dense_1_acc_18: 0.1833 - dense_1_acc_19: 0.1500 - dense_1_acc_20: 0.1167 - dense_1_acc_21: 0.1500 - dense_1_acc_22: 0.1667 - dense_1_acc_23: 0.1333 - dense_1_acc_24: 0.0333 - dense_1_acc_25: 0.1833 - dense_1_acc_26: 0.1000 - dense_1_acc_27: 0.1167 - dense_1_acc_28: 0.0667 - dense_1_acc_29: 0.0000e+00\n",
      "Epoch 8/100\n",
      "60/60 [==============================] - 0s 2ms/step - loss: 101.2296 - dense_1_loss: 0.0000e+00 - dense_1_acc: 0.1000 - dense_1_acc_1: 0.1000 - dense_1_acc_2: 0.1667 - dense_1_acc_3: 0.1667 - dense_1_acc_4: 0.2333 - dense_1_acc_5: 0.1000 - dense_1_acc_6: 0.1500 - dense_1_acc_7: 0.2167 - dense_1_acc_8: 0.1833 - dense_1_acc_9: 0.2000 - dense_1_acc_10: 0.1667 - dense_1_acc_11: 0.1667 - dense_1_acc_12: 0.1833 - dense_1_acc_13: 0.2833 - dense_1_acc_14: 0.2000 - dense_1_acc_15: 0.2000 - dense_1_acc_16: 0.2167 - dense_1_acc_17: 0.1667 - dense_1_acc_18: 0.2000 - dense_1_acc_19: 0.2000 - dense_1_acc_20: 0.1667 - dense_1_acc_21: 0.1833 - dense_1_acc_22: 0.1833 - dense_1_acc_23: 0.1667 - dense_1_acc_24: 0.1167 - dense_1_acc_25: 0.2500 - dense_1_acc_26: 0.0833 - dense_1_acc_27: 0.1167 - dense_1_acc_28: 0.1167 - dense_1_acc_29: 0.0000e+00\n",
      "Epoch 9/100\n",
      "60/60 [==============================] - 0s 2ms/step - loss: 97.7706 - dense_1_loss: 0.0000e+00 - dense_1_acc: 0.1000 - dense_1_acc_1: 0.1167 - dense_1_acc_2: 0.1833 - dense_1_acc_3: 0.1833 - dense_1_acc_4: 0.2333 - dense_1_acc_5: 0.1000 - dense_1_acc_6: 0.1500 - dense_1_acc_7: 0.2167 - dense_1_acc_8: 0.2000 - dense_1_acc_9: 0.2000 - dense_1_acc_10: 0.2000 - dense_1_acc_11: 0.1833 - dense_1_acc_12: 0.2333 - dense_1_acc_13: 0.2667 - dense_1_acc_14: 0.1667 - dense_1_acc_15: 0.1833 - dense_1_acc_16: 0.2000 - dense_1_acc_17: 0.0833 - dense_1_acc_18: 0.2000 - dense_1_acc_19: 0.1833 - dense_1_acc_20: 0.1167 - dense_1_acc_21: 0.1667 - dense_1_acc_22: 0.2000 - dense_1_acc_23: 0.1500 - dense_1_acc_24: 0.1333 - dense_1_acc_25: 0.2500 - dense_1_acc_26: 0.1833 - dense_1_acc_27: 0.2167 - dense_1_acc_28: 0.1667 - dense_1_acc_29: 0.0000e+00\n",
      "Epoch 10/100\n"
     ]
    },
    {
     "name": "stdout",
     "output_type": "stream",
     "text": [
      "60/60 [==============================] - 0s 2ms/step - loss: 94.4127 - dense_1_loss: 0.0000e+00 - dense_1_acc: 0.1000 - dense_1_acc_1: 0.1500 - dense_1_acc_2: 0.2000 - dense_1_acc_3: 0.1833 - dense_1_acc_4: 0.2333 - dense_1_acc_5: 0.1000 - dense_1_acc_6: 0.1833 - dense_1_acc_7: 0.2000 - dense_1_acc_8: 0.1500 - dense_1_acc_9: 0.2333 - dense_1_acc_10: 0.1833 - dense_1_acc_11: 0.1667 - dense_1_acc_12: 0.2500 - dense_1_acc_13: 0.3167 - dense_1_acc_14: 0.2500 - dense_1_acc_15: 0.2000 - dense_1_acc_16: 0.2167 - dense_1_acc_17: 0.1167 - dense_1_acc_18: 0.2167 - dense_1_acc_19: 0.2667 - dense_1_acc_20: 0.1667 - dense_1_acc_21: 0.1667 - dense_1_acc_22: 0.1667 - dense_1_acc_23: 0.1500 - dense_1_acc_24: 0.1333 - dense_1_acc_25: 0.2833 - dense_1_acc_26: 0.0500 - dense_1_acc_27: 0.1667 - dense_1_acc_28: 0.1667 - dense_1_acc_29: 0.0000e+00\n",
      "Epoch 11/100\n",
      "60/60 [==============================] - 0s 2ms/step - loss: 90.3230 - dense_1_loss: 0.0000e+00 - dense_1_acc: 0.1000 - dense_1_acc_1: 0.1667 - dense_1_acc_2: 0.2167 - dense_1_acc_3: 0.1833 - dense_1_acc_4: 0.2500 - dense_1_acc_5: 0.1333 - dense_1_acc_6: 0.2333 - dense_1_acc_7: 0.3000 - dense_1_acc_8: 0.2333 - dense_1_acc_9: 0.2833 - dense_1_acc_10: 0.1833 - dense_1_acc_11: 0.2000 - dense_1_acc_12: 0.3000 - dense_1_acc_13: 0.3000 - dense_1_acc_14: 0.3000 - dense_1_acc_15: 0.2333 - dense_1_acc_16: 0.2333 - dense_1_acc_17: 0.1333 - dense_1_acc_18: 0.2500 - dense_1_acc_19: 0.2167 - dense_1_acc_20: 0.1333 - dense_1_acc_21: 0.2000 - dense_1_acc_22: 0.2333 - dense_1_acc_23: 0.1667 - dense_1_acc_24: 0.1333 - dense_1_acc_25: 0.2167 - dense_1_acc_26: 0.1833 - dense_1_acc_27: 0.2000 - dense_1_acc_28: 0.1333 - dense_1_acc_29: 0.0000e+00\n",
      "Epoch 12/100\n",
      "60/60 [==============================] - 0s 2ms/step - loss: 86.0926 - dense_1_loss: 0.0000e+00 - dense_1_acc: 0.1000 - dense_1_acc_1: 0.1667 - dense_1_acc_2: 0.2167 - dense_1_acc_3: 0.1833 - dense_1_acc_4: 0.2500 - dense_1_acc_5: 0.1167 - dense_1_acc_6: 0.2500 - dense_1_acc_7: 0.2500 - dense_1_acc_8: 0.2167 - dense_1_acc_9: 0.3167 - dense_1_acc_10: 0.2000 - dense_1_acc_11: 0.2000 - dense_1_acc_12: 0.2833 - dense_1_acc_13: 0.3167 - dense_1_acc_14: 0.2833 - dense_1_acc_15: 0.2333 - dense_1_acc_16: 0.2667 - dense_1_acc_17: 0.1833 - dense_1_acc_18: 0.2667 - dense_1_acc_19: 0.2500 - dense_1_acc_20: 0.2167 - dense_1_acc_21: 0.1833 - dense_1_acc_22: 0.2500 - dense_1_acc_23: 0.1500 - dense_1_acc_24: 0.1667 - dense_1_acc_25: 0.3167 - dense_1_acc_26: 0.1833 - dense_1_acc_27: 0.1833 - dense_1_acc_28: 0.2667 - dense_1_acc_29: 0.0000e+00\n",
      "Epoch 13/100\n",
      "60/60 [==============================] - 0s 2ms/step - loss: 81.6310 - dense_1_loss: 0.0000e+00 - dense_1_acc: 0.1000 - dense_1_acc_1: 0.1833 - dense_1_acc_2: 0.2500 - dense_1_acc_3: 0.1833 - dense_1_acc_4: 0.2667 - dense_1_acc_5: 0.1333 - dense_1_acc_6: 0.2500 - dense_1_acc_7: 0.3000 - dense_1_acc_8: 0.2667 - dense_1_acc_9: 0.3500 - dense_1_acc_10: 0.2333 - dense_1_acc_11: 0.2333 - dense_1_acc_12: 0.3000 - dense_1_acc_13: 0.3000 - dense_1_acc_14: 0.3000 - dense_1_acc_15: 0.2333 - dense_1_acc_16: 0.3000 - dense_1_acc_17: 0.2000 - dense_1_acc_18: 0.3500 - dense_1_acc_19: 0.3167 - dense_1_acc_20: 0.2833 - dense_1_acc_21: 0.1833 - dense_1_acc_22: 0.2167 - dense_1_acc_23: 0.2333 - dense_1_acc_24: 0.1667 - dense_1_acc_25: 0.3333 - dense_1_acc_26: 0.2333 - dense_1_acc_27: 0.2333 - dense_1_acc_28: 0.1833 - dense_1_acc_29: 0.0000e+00\n",
      "Epoch 14/100\n",
      "60/60 [==============================] - 0s 2ms/step - loss: 77.7003 - dense_1_loss: 0.0000e+00 - dense_1_acc: 0.1000 - dense_1_acc_1: 0.1833 - dense_1_acc_2: 0.2500 - dense_1_acc_3: 0.2000 - dense_1_acc_4: 0.2667 - dense_1_acc_5: 0.1500 - dense_1_acc_6: 0.2667 - dense_1_acc_7: 0.3167 - dense_1_acc_8: 0.2667 - dense_1_acc_9: 0.3500 - dense_1_acc_10: 0.2333 - dense_1_acc_11: 0.2000 - dense_1_acc_12: 0.3667 - dense_1_acc_13: 0.3333 - dense_1_acc_14: 0.2667 - dense_1_acc_15: 0.2500 - dense_1_acc_16: 0.3000 - dense_1_acc_17: 0.2667 - dense_1_acc_18: 0.2667 - dense_1_acc_19: 0.2667 - dense_1_acc_20: 0.3000 - dense_1_acc_21: 0.2000 - dense_1_acc_22: 0.1833 - dense_1_acc_23: 0.2333 - dense_1_acc_24: 0.1500 - dense_1_acc_25: 0.2667 - dense_1_acc_26: 0.2167 - dense_1_acc_27: 0.2500 - dense_1_acc_28: 0.1667 - dense_1_acc_29: 0.0167\n",
      "Epoch 15/100\n",
      "60/60 [==============================] - 0s 2ms/step - loss: 73.9297 - dense_1_loss: 0.0000e+00 - dense_1_acc: 0.1000 - dense_1_acc_1: 0.2000 - dense_1_acc_2: 0.2500 - dense_1_acc_3: 0.2333 - dense_1_acc_4: 0.2833 - dense_1_acc_5: 0.1667 - dense_1_acc_6: 0.2500 - dense_1_acc_7: 0.3500 - dense_1_acc_8: 0.3333 - dense_1_acc_9: 0.3833 - dense_1_acc_10: 0.2333 - dense_1_acc_11: 0.1833 - dense_1_acc_12: 0.3833 - dense_1_acc_13: 0.3667 - dense_1_acc_14: 0.3000 - dense_1_acc_15: 0.3000 - dense_1_acc_16: 0.3667 - dense_1_acc_17: 0.2667 - dense_1_acc_18: 0.3333 - dense_1_acc_19: 0.3000 - dense_1_acc_20: 0.3667 - dense_1_acc_21: 0.2167 - dense_1_acc_22: 0.2333 - dense_1_acc_23: 0.1667 - dense_1_acc_24: 0.2167 - dense_1_acc_25: 0.3000 - dense_1_acc_26: 0.2500 - dense_1_acc_27: 0.3167 - dense_1_acc_28: 0.2500 - dense_1_acc_29: 0.0000e+00\n",
      "Epoch 16/100\n",
      "60/60 [==============================] - 0s 2ms/step - loss: 69.8017 - dense_1_loss: 0.0000e+00 - dense_1_acc: 0.0667 - dense_1_acc_1: 0.2167 - dense_1_acc_2: 0.2333 - dense_1_acc_3: 0.2500 - dense_1_acc_4: 0.3167 - dense_1_acc_5: 0.2333 - dense_1_acc_6: 0.2833 - dense_1_acc_7: 0.3667 - dense_1_acc_8: 0.4167 - dense_1_acc_9: 0.4500 - dense_1_acc_10: 0.3167 - dense_1_acc_11: 0.3000 - dense_1_acc_12: 0.3667 - dense_1_acc_13: 0.3833 - dense_1_acc_14: 0.3833 - dense_1_acc_15: 0.3667 - dense_1_acc_16: 0.4000 - dense_1_acc_17: 0.3333 - dense_1_acc_18: 0.3833 - dense_1_acc_19: 0.3667 - dense_1_acc_20: 0.3500 - dense_1_acc_21: 0.2500 - dense_1_acc_22: 0.3500 - dense_1_acc_23: 0.3500 - dense_1_acc_24: 0.2667 - dense_1_acc_25: 0.4167 - dense_1_acc_26: 0.3667 - dense_1_acc_27: 0.3833 - dense_1_acc_28: 0.3833 - dense_1_acc_29: 0.0000e+00\n",
      "Epoch 17/100\n",
      "60/60 [==============================] - 0s 3ms/step - loss: 66.4353 - dense_1_loss: 0.0000e+00 - dense_1_acc: 0.0333 - dense_1_acc_1: 0.2667 - dense_1_acc_2: 0.2667 - dense_1_acc_3: 0.2667 - dense_1_acc_4: 0.3333 - dense_1_acc_5: 0.2833 - dense_1_acc_6: 0.2833 - dense_1_acc_7: 0.3833 - dense_1_acc_8: 0.4333 - dense_1_acc_9: 0.4500 - dense_1_acc_10: 0.3333 - dense_1_acc_11: 0.3833 - dense_1_acc_12: 0.4667 - dense_1_acc_13: 0.4500 - dense_1_acc_14: 0.4000 - dense_1_acc_15: 0.4000 - dense_1_acc_16: 0.4833 - dense_1_acc_17: 0.3500 - dense_1_acc_18: 0.4500 - dense_1_acc_19: 0.4000 - dense_1_acc_20: 0.4000 - dense_1_acc_21: 0.3167 - dense_1_acc_22: 0.3333 - dense_1_acc_23: 0.3667 - dense_1_acc_24: 0.2833 - dense_1_acc_25: 0.4333 - dense_1_acc_26: 0.4667 - dense_1_acc_27: 0.3667 - dense_1_acc_28: 0.4167 - dense_1_acc_29: 0.0000e+00\n",
      "Epoch 18/100\n",
      "60/60 [==============================] - 0s 2ms/step - loss: 62.8701 - dense_1_loss: 0.0000e+00 - dense_1_acc: 0.0333 - dense_1_acc_1: 0.2500 - dense_1_acc_2: 0.3000 - dense_1_acc_3: 0.2833 - dense_1_acc_4: 0.3667 - dense_1_acc_5: 0.3000 - dense_1_acc_6: 0.3667 - dense_1_acc_7: 0.4667 - dense_1_acc_8: 0.4667 - dense_1_acc_9: 0.4333 - dense_1_acc_10: 0.3167 - dense_1_acc_11: 0.4833 - dense_1_acc_12: 0.4667 - dense_1_acc_13: 0.4167 - dense_1_acc_14: 0.4167 - dense_1_acc_15: 0.3333 - dense_1_acc_16: 0.5000 - dense_1_acc_17: 0.3500 - dense_1_acc_18: 0.4833 - dense_1_acc_19: 0.4000 - dense_1_acc_20: 0.4667 - dense_1_acc_21: 0.4000 - dense_1_acc_22: 0.4167 - dense_1_acc_23: 0.4500 - dense_1_acc_24: 0.2500 - dense_1_acc_25: 0.4667 - dense_1_acc_26: 0.4500 - dense_1_acc_27: 0.3667 - dense_1_acc_28: 0.4167 - dense_1_acc_29: 0.0000e+00\n",
      "Epoch 19/100\n"
     ]
    },
    {
     "name": "stdout",
     "output_type": "stream",
     "text": [
      "60/60 [==============================] - 0s 2ms/step - loss: 59.8362 - dense_1_loss: 0.0000e+00 - dense_1_acc: 0.0333 - dense_1_acc_1: 0.2833 - dense_1_acc_2: 0.3333 - dense_1_acc_3: 0.3000 - dense_1_acc_4: 0.3667 - dense_1_acc_5: 0.3167 - dense_1_acc_6: 0.3833 - dense_1_acc_7: 0.5000 - dense_1_acc_8: 0.5333 - dense_1_acc_9: 0.5333 - dense_1_acc_10: 0.4000 - dense_1_acc_11: 0.5333 - dense_1_acc_12: 0.5167 - dense_1_acc_13: 0.5000 - dense_1_acc_14: 0.4833 - dense_1_acc_15: 0.4833 - dense_1_acc_16: 0.5833 - dense_1_acc_17: 0.4000 - dense_1_acc_18: 0.4667 - dense_1_acc_19: 0.4500 - dense_1_acc_20: 0.5000 - dense_1_acc_21: 0.4667 - dense_1_acc_22: 0.5167 - dense_1_acc_23: 0.4333 - dense_1_acc_24: 0.3667 - dense_1_acc_25: 0.4833 - dense_1_acc_26: 0.4667 - dense_1_acc_27: 0.4833 - dense_1_acc_28: 0.5167 - dense_1_acc_29: 0.0000e+00\n",
      "Epoch 20/100\n",
      "60/60 [==============================] - 0s 2ms/step - loss: 56.7406 - dense_1_loss: 0.0000e+00 - dense_1_acc: 0.0333 - dense_1_acc_1: 0.2833 - dense_1_acc_2: 0.3667 - dense_1_acc_3: 0.3000 - dense_1_acc_4: 0.3667 - dense_1_acc_5: 0.3500 - dense_1_acc_6: 0.3833 - dense_1_acc_7: 0.4167 - dense_1_acc_8: 0.5500 - dense_1_acc_9: 0.5000 - dense_1_acc_10: 0.4667 - dense_1_acc_11: 0.5000 - dense_1_acc_12: 0.6000 - dense_1_acc_13: 0.6333 - dense_1_acc_14: 0.4833 - dense_1_acc_15: 0.4833 - dense_1_acc_16: 0.6333 - dense_1_acc_17: 0.4833 - dense_1_acc_18: 0.5500 - dense_1_acc_19: 0.5667 - dense_1_acc_20: 0.5500 - dense_1_acc_21: 0.5333 - dense_1_acc_22: 0.5333 - dense_1_acc_23: 0.5167 - dense_1_acc_24: 0.3667 - dense_1_acc_25: 0.5667 - dense_1_acc_26: 0.5000 - dense_1_acc_27: 0.5500 - dense_1_acc_28: 0.5500 - dense_1_acc_29: 0.0000e+00\n",
      "Epoch 21/100\n",
      "60/60 [==============================] - 0s 3ms/step - loss: 54.0938 - dense_1_loss: 0.0000e+00 - dense_1_acc: 0.0333 - dense_1_acc_1: 0.3000 - dense_1_acc_2: 0.4000 - dense_1_acc_3: 0.3333 - dense_1_acc_4: 0.3667 - dense_1_acc_5: 0.3500 - dense_1_acc_6: 0.4000 - dense_1_acc_7: 0.4333 - dense_1_acc_8: 0.5500 - dense_1_acc_9: 0.5000 - dense_1_acc_10: 0.4833 - dense_1_acc_11: 0.4667 - dense_1_acc_12: 0.6167 - dense_1_acc_13: 0.6333 - dense_1_acc_14: 0.5667 - dense_1_acc_15: 0.5167 - dense_1_acc_16: 0.6667 - dense_1_acc_17: 0.5333 - dense_1_acc_18: 0.6667 - dense_1_acc_19: 0.6167 - dense_1_acc_20: 0.6167 - dense_1_acc_21: 0.5500 - dense_1_acc_22: 0.6000 - dense_1_acc_23: 0.5167 - dense_1_acc_24: 0.4833 - dense_1_acc_25: 0.6500 - dense_1_acc_26: 0.5333 - dense_1_acc_27: 0.6000 - dense_1_acc_28: 0.6333 - dense_1_acc_29: 0.0000e+00\n",
      "Epoch 22/100\n",
      "60/60 [==============================] - 0s 2ms/step - loss: 51.5359 - dense_1_loss: 0.0000e+00 - dense_1_acc: 0.0333 - dense_1_acc_1: 0.3000 - dense_1_acc_2: 0.4000 - dense_1_acc_3: 0.3333 - dense_1_acc_4: 0.3667 - dense_1_acc_5: 0.3333 - dense_1_acc_6: 0.4667 - dense_1_acc_7: 0.5833 - dense_1_acc_8: 0.6000 - dense_1_acc_9: 0.6000 - dense_1_acc_10: 0.5167 - dense_1_acc_11: 0.6167 - dense_1_acc_12: 0.7333 - dense_1_acc_13: 0.7167 - dense_1_acc_14: 0.5500 - dense_1_acc_15: 0.5167 - dense_1_acc_16: 0.6667 - dense_1_acc_17: 0.5667 - dense_1_acc_18: 0.6500 - dense_1_acc_19: 0.5000 - dense_1_acc_20: 0.6500 - dense_1_acc_21: 0.6000 - dense_1_acc_22: 0.6000 - dense_1_acc_23: 0.5333 - dense_1_acc_24: 0.5000 - dense_1_acc_25: 0.6500 - dense_1_acc_26: 0.5333 - dense_1_acc_27: 0.5833 - dense_1_acc_28: 0.6333 - dense_1_acc_29: 0.0000e+00\n",
      "Epoch 23/100\n",
      "60/60 [==============================] - 0s 2ms/step - loss: 48.8218 - dense_1_loss: 0.0000e+00 - dense_1_acc: 0.0667 - dense_1_acc_1: 0.3000 - dense_1_acc_2: 0.4000 - dense_1_acc_3: 0.3833 - dense_1_acc_4: 0.3667 - dense_1_acc_5: 0.4333 - dense_1_acc_6: 0.5833 - dense_1_acc_7: 0.6000 - dense_1_acc_8: 0.6000 - dense_1_acc_9: 0.6000 - dense_1_acc_10: 0.6000 - dense_1_acc_11: 0.6500 - dense_1_acc_12: 0.7500 - dense_1_acc_13: 0.7667 - dense_1_acc_14: 0.7000 - dense_1_acc_15: 0.5667 - dense_1_acc_16: 0.7167 - dense_1_acc_17: 0.7000 - dense_1_acc_18: 0.7333 - dense_1_acc_19: 0.7167 - dense_1_acc_20: 0.7000 - dense_1_acc_21: 0.6667 - dense_1_acc_22: 0.6833 - dense_1_acc_23: 0.5500 - dense_1_acc_24: 0.5667 - dense_1_acc_25: 0.6667 - dense_1_acc_26: 0.6500 - dense_1_acc_27: 0.7167 - dense_1_acc_28: 0.7333 - dense_1_acc_29: 0.0000e+00\n",
      "Epoch 24/100\n",
      "60/60 [==============================] - 0s 3ms/step - loss: 46.6435 - dense_1_loss: 0.0000e+00 - dense_1_acc: 0.0667 - dense_1_acc_1: 0.3000 - dense_1_acc_2: 0.4167 - dense_1_acc_3: 0.4000 - dense_1_acc_4: 0.4167 - dense_1_acc_5: 0.5000 - dense_1_acc_6: 0.5667 - dense_1_acc_7: 0.5833 - dense_1_acc_8: 0.7000 - dense_1_acc_9: 0.6500 - dense_1_acc_10: 0.6000 - dense_1_acc_11: 0.6167 - dense_1_acc_12: 0.7667 - dense_1_acc_13: 0.7667 - dense_1_acc_14: 0.7000 - dense_1_acc_15: 0.5833 - dense_1_acc_16: 0.7167 - dense_1_acc_17: 0.6333 - dense_1_acc_18: 0.6833 - dense_1_acc_19: 0.6833 - dense_1_acc_20: 0.6333 - dense_1_acc_21: 0.5833 - dense_1_acc_22: 0.6000 - dense_1_acc_23: 0.6000 - dense_1_acc_24: 0.7167 - dense_1_acc_25: 0.6667 - dense_1_acc_26: 0.6167 - dense_1_acc_27: 0.6833 - dense_1_acc_28: 0.7333 - dense_1_acc_29: 0.0167\n",
      "Epoch 25/100\n",
      "60/60 [==============================] - 0s 3ms/step - loss: 43.8852 - dense_1_loss: 0.0000e+00 - dense_1_acc: 0.0667 - dense_1_acc_1: 0.3333 - dense_1_acc_2: 0.4167 - dense_1_acc_3: 0.4167 - dense_1_acc_4: 0.4167 - dense_1_acc_5: 0.5333 - dense_1_acc_6: 0.6167 - dense_1_acc_7: 0.7000 - dense_1_acc_8: 0.7667 - dense_1_acc_9: 0.7500 - dense_1_acc_10: 0.7333 - dense_1_acc_11: 0.7167 - dense_1_acc_12: 0.7667 - dense_1_acc_13: 0.8000 - dense_1_acc_14: 0.8000 - dense_1_acc_15: 0.7000 - dense_1_acc_16: 0.7333 - dense_1_acc_17: 0.7000 - dense_1_acc_18: 0.8333 - dense_1_acc_19: 0.7000 - dense_1_acc_20: 0.7333 - dense_1_acc_21: 0.7000 - dense_1_acc_22: 0.7167 - dense_1_acc_23: 0.6333 - dense_1_acc_24: 0.7000 - dense_1_acc_25: 0.7000 - dense_1_acc_26: 0.7000 - dense_1_acc_27: 0.7667 - dense_1_acc_28: 0.7500 - dense_1_acc_29: 0.0000e+00\n",
      "Epoch 26/100\n",
      "60/60 [==============================] - 0s 2ms/step - loss: 41.4822 - dense_1_loss: 0.0000e+00 - dense_1_acc: 0.0667 - dense_1_acc_1: 0.3333 - dense_1_acc_2: 0.4167 - dense_1_acc_3: 0.4167 - dense_1_acc_4: 0.4833 - dense_1_acc_5: 0.6500 - dense_1_acc_6: 0.6500 - dense_1_acc_7: 0.7667 - dense_1_acc_8: 0.7833 - dense_1_acc_9: 0.7833 - dense_1_acc_10: 0.7167 - dense_1_acc_11: 0.8333 - dense_1_acc_12: 0.9000 - dense_1_acc_13: 0.9000 - dense_1_acc_14: 0.8667 - dense_1_acc_15: 0.8167 - dense_1_acc_16: 0.7833 - dense_1_acc_17: 0.8000 - dense_1_acc_18: 0.8333 - dense_1_acc_19: 0.7667 - dense_1_acc_20: 0.8000 - dense_1_acc_21: 0.7667 - dense_1_acc_22: 0.7833 - dense_1_acc_23: 0.7667 - dense_1_acc_24: 0.6833 - dense_1_acc_25: 0.6833 - dense_1_acc_26: 0.8000 - dense_1_acc_27: 0.8167 - dense_1_acc_28: 0.8167 - dense_1_acc_29: 0.0000e+00\n",
      "Epoch 27/100\n",
      "60/60 [==============================] - 0s 2ms/step - loss: 39.1941 - dense_1_loss: 0.0000e+00 - dense_1_acc: 0.0667 - dense_1_acc_1: 0.3333 - dense_1_acc_2: 0.4167 - dense_1_acc_3: 0.4500 - dense_1_acc_4: 0.5167 - dense_1_acc_5: 0.6833 - dense_1_acc_6: 0.7500 - dense_1_acc_7: 0.7333 - dense_1_acc_8: 0.8000 - dense_1_acc_9: 0.8167 - dense_1_acc_10: 0.7833 - dense_1_acc_11: 0.8000 - dense_1_acc_12: 0.9167 - dense_1_acc_13: 0.8833 - dense_1_acc_14: 0.8167 - dense_1_acc_15: 0.8000 - dense_1_acc_16: 0.7833 - dense_1_acc_17: 0.8333 - dense_1_acc_18: 0.8500 - dense_1_acc_19: 0.8500 - dense_1_acc_20: 0.8500 - dense_1_acc_21: 0.8500 - dense_1_acc_22: 0.8833 - dense_1_acc_23: 0.7833 - dense_1_acc_24: 0.7500 - dense_1_acc_25: 0.8000 - dense_1_acc_26: 0.8333 - dense_1_acc_27: 0.8667 - dense_1_acc_28: 0.8333 - dense_1_acc_29: 0.0000e+00\n",
      "Epoch 28/100\n"
     ]
    },
    {
     "name": "stdout",
     "output_type": "stream",
     "text": [
      "60/60 [==============================] - 0s 2ms/step - loss: 36.9445 - dense_1_loss: 0.0000e+00 - dense_1_acc: 0.0333 - dense_1_acc_1: 0.3333 - dense_1_acc_2: 0.4167 - dense_1_acc_3: 0.4667 - dense_1_acc_4: 0.5500 - dense_1_acc_5: 0.7167 - dense_1_acc_6: 0.7667 - dense_1_acc_7: 0.7833 - dense_1_acc_8: 0.8667 - dense_1_acc_9: 0.8333 - dense_1_acc_10: 0.8167 - dense_1_acc_11: 0.8500 - dense_1_acc_12: 0.8833 - dense_1_acc_13: 0.9000 - dense_1_acc_14: 0.8167 - dense_1_acc_15: 0.9000 - dense_1_acc_16: 0.8833 - dense_1_acc_17: 0.8833 - dense_1_acc_18: 0.9500 - dense_1_acc_19: 0.8500 - dense_1_acc_20: 0.8667 - dense_1_acc_21: 0.8500 - dense_1_acc_22: 0.8500 - dense_1_acc_23: 0.7833 - dense_1_acc_24: 0.7667 - dense_1_acc_25: 0.7500 - dense_1_acc_26: 0.8333 - dense_1_acc_27: 0.8667 - dense_1_acc_28: 0.8667 - dense_1_acc_29: 0.0000e+00\n",
      "Epoch 29/100\n",
      "60/60 [==============================] - 0s 3ms/step - loss: 34.8208 - dense_1_loss: 0.0000e+00 - dense_1_acc: 0.0333 - dense_1_acc_1: 0.3500 - dense_1_acc_2: 0.4333 - dense_1_acc_3: 0.4667 - dense_1_acc_4: 0.5833 - dense_1_acc_5: 0.7167 - dense_1_acc_6: 0.7500 - dense_1_acc_7: 0.7833 - dense_1_acc_8: 0.8667 - dense_1_acc_9: 0.8667 - dense_1_acc_10: 0.8500 - dense_1_acc_11: 0.9167 - dense_1_acc_12: 0.9167 - dense_1_acc_13: 0.9667 - dense_1_acc_14: 0.8500 - dense_1_acc_15: 0.8667 - dense_1_acc_16: 0.9500 - dense_1_acc_17: 0.8500 - dense_1_acc_18: 0.9500 - dense_1_acc_19: 0.9000 - dense_1_acc_20: 0.9000 - dense_1_acc_21: 0.9167 - dense_1_acc_22: 0.9000 - dense_1_acc_23: 0.8000 - dense_1_acc_24: 0.8333 - dense_1_acc_25: 0.8500 - dense_1_acc_26: 0.8500 - dense_1_acc_27: 0.9167 - dense_1_acc_28: 0.8833 - dense_1_acc_29: 0.0000e+00\n",
      "Epoch 30/100\n",
      "60/60 [==============================] - 0s 2ms/step - loss: 32.6943 - dense_1_loss: 0.0000e+00 - dense_1_acc: 0.0333 - dense_1_acc_1: 0.3833 - dense_1_acc_2: 0.4833 - dense_1_acc_3: 0.4833 - dense_1_acc_4: 0.6167 - dense_1_acc_5: 0.7667 - dense_1_acc_6: 0.8000 - dense_1_acc_7: 0.7833 - dense_1_acc_8: 0.8833 - dense_1_acc_9: 0.9167 - dense_1_acc_10: 0.8333 - dense_1_acc_11: 0.9167 - dense_1_acc_12: 0.9833 - dense_1_acc_13: 0.9500 - dense_1_acc_14: 0.9333 - dense_1_acc_15: 0.9500 - dense_1_acc_16: 0.9500 - dense_1_acc_17: 0.9667 - dense_1_acc_18: 0.9667 - dense_1_acc_19: 0.8833 - dense_1_acc_20: 0.9333 - dense_1_acc_21: 0.9833 - dense_1_acc_22: 0.9500 - dense_1_acc_23: 0.9167 - dense_1_acc_24: 0.9000 - dense_1_acc_25: 0.8833 - dense_1_acc_26: 0.8500 - dense_1_acc_27: 0.9500 - dense_1_acc_28: 0.9000 - dense_1_acc_29: 0.0000e+00\n",
      "Epoch 31/100\n",
      "60/60 [==============================] - 0s 3ms/step - loss: 30.8626 - dense_1_loss: 0.0000e+00 - dense_1_acc: 0.0333 - dense_1_acc_1: 0.3667 - dense_1_acc_2: 0.5667 - dense_1_acc_3: 0.5000 - dense_1_acc_4: 0.6333 - dense_1_acc_5: 0.8333 - dense_1_acc_6: 0.9167 - dense_1_acc_7: 0.8500 - dense_1_acc_8: 0.9000 - dense_1_acc_9: 0.9500 - dense_1_acc_10: 0.9000 - dense_1_acc_11: 0.9500 - dense_1_acc_12: 0.9667 - dense_1_acc_13: 0.9833 - dense_1_acc_14: 0.9500 - dense_1_acc_15: 0.9833 - dense_1_acc_16: 0.9667 - dense_1_acc_17: 1.0000 - dense_1_acc_18: 0.9667 - dense_1_acc_19: 0.9500 - dense_1_acc_20: 0.9500 - dense_1_acc_21: 0.9667 - dense_1_acc_22: 0.9667 - dense_1_acc_23: 0.9500 - dense_1_acc_24: 0.9167 - dense_1_acc_25: 0.9333 - dense_1_acc_26: 0.8833 - dense_1_acc_27: 0.9667 - dense_1_acc_28: 0.9000 - dense_1_acc_29: 0.0000e+00\n",
      "Epoch 32/100\n",
      "60/60 [==============================] - 0s 2ms/step - loss: 28.9766 - dense_1_loss: 0.0000e+00 - dense_1_acc: 0.0333 - dense_1_acc_1: 0.3833 - dense_1_acc_2: 0.6000 - dense_1_acc_3: 0.5667 - dense_1_acc_4: 0.6667 - dense_1_acc_5: 0.8500 - dense_1_acc_6: 0.9333 - dense_1_acc_7: 0.9000 - dense_1_acc_8: 0.9167 - dense_1_acc_9: 0.9167 - dense_1_acc_10: 0.9667 - dense_1_acc_11: 0.9667 - dense_1_acc_12: 0.9667 - dense_1_acc_13: 0.9833 - dense_1_acc_14: 0.9667 - dense_1_acc_15: 0.9833 - dense_1_acc_16: 0.9833 - dense_1_acc_17: 1.0000 - dense_1_acc_18: 0.9667 - dense_1_acc_19: 0.9500 - dense_1_acc_20: 0.9833 - dense_1_acc_21: 0.9833 - dense_1_acc_22: 0.9667 - dense_1_acc_23: 0.9667 - dense_1_acc_24: 0.9333 - dense_1_acc_25: 0.9500 - dense_1_acc_26: 0.9000 - dense_1_acc_27: 0.9833 - dense_1_acc_28: 0.9333 - dense_1_acc_29: 0.0000e+00\n",
      "Epoch 33/100\n",
      "60/60 [==============================] - 0s 2ms/step - loss: 27.3041 - dense_1_loss: 0.0000e+00 - dense_1_acc: 0.0333 - dense_1_acc_1: 0.3833 - dense_1_acc_2: 0.6000 - dense_1_acc_3: 0.6000 - dense_1_acc_4: 0.7167 - dense_1_acc_5: 0.8667 - dense_1_acc_6: 0.9500 - dense_1_acc_7: 0.9333 - dense_1_acc_8: 0.9333 - dense_1_acc_9: 0.9667 - dense_1_acc_10: 0.9667 - dense_1_acc_11: 0.9833 - dense_1_acc_12: 0.9833 - dense_1_acc_13: 0.9833 - dense_1_acc_14: 0.9667 - dense_1_acc_15: 0.9833 - dense_1_acc_16: 0.9833 - dense_1_acc_17: 1.0000 - dense_1_acc_18: 0.9667 - dense_1_acc_19: 0.9667 - dense_1_acc_20: 0.9667 - dense_1_acc_21: 0.9667 - dense_1_acc_22: 0.9833 - dense_1_acc_23: 1.0000 - dense_1_acc_24: 0.9667 - dense_1_acc_25: 0.9167 - dense_1_acc_26: 0.9167 - dense_1_acc_27: 0.9833 - dense_1_acc_28: 0.9333 - dense_1_acc_29: 0.0000e+00\n",
      "Epoch 34/100\n",
      "60/60 [==============================] - 0s 2ms/step - loss: 25.9598 - dense_1_loss: 0.0000e+00 - dense_1_acc: 0.0333 - dense_1_acc_1: 0.3833 - dense_1_acc_2: 0.6000 - dense_1_acc_3: 0.6167 - dense_1_acc_4: 0.7500 - dense_1_acc_5: 0.9000 - dense_1_acc_6: 0.9500 - dense_1_acc_7: 0.9500 - dense_1_acc_8: 0.9333 - dense_1_acc_9: 0.9667 - dense_1_acc_10: 0.9667 - dense_1_acc_11: 0.9667 - dense_1_acc_12: 1.0000 - dense_1_acc_13: 0.9833 - dense_1_acc_14: 0.9833 - dense_1_acc_15: 1.0000 - dense_1_acc_16: 1.0000 - dense_1_acc_17: 1.0000 - dense_1_acc_18: 0.9833 - dense_1_acc_19: 0.9833 - dense_1_acc_20: 0.9667 - dense_1_acc_21: 0.9833 - dense_1_acc_22: 0.9667 - dense_1_acc_23: 0.9667 - dense_1_acc_24: 0.9667 - dense_1_acc_25: 0.9667 - dense_1_acc_26: 0.9667 - dense_1_acc_27: 0.9667 - dense_1_acc_28: 0.9667 - dense_1_acc_29: 0.0000e+00\n",
      "Epoch 35/100\n",
      "60/60 [==============================] - 0s 3ms/step - loss: 24.3528 - dense_1_loss: 0.0000e+00 - dense_1_acc: 0.0333 - dense_1_acc_1: 0.3833 - dense_1_acc_2: 0.6167 - dense_1_acc_3: 0.6500 - dense_1_acc_4: 0.7500 - dense_1_acc_5: 0.9167 - dense_1_acc_6: 0.9500 - dense_1_acc_7: 0.9667 - dense_1_acc_8: 0.9333 - dense_1_acc_9: 1.0000 - dense_1_acc_10: 0.9833 - dense_1_acc_11: 0.9667 - dense_1_acc_12: 1.0000 - dense_1_acc_13: 1.0000 - dense_1_acc_14: 0.9667 - dense_1_acc_15: 1.0000 - dense_1_acc_16: 0.9833 - dense_1_acc_17: 1.0000 - dense_1_acc_18: 0.9667 - dense_1_acc_19: 0.9833 - dense_1_acc_20: 0.9667 - dense_1_acc_21: 0.9833 - dense_1_acc_22: 0.9833 - dense_1_acc_23: 1.0000 - dense_1_acc_24: 0.9833 - dense_1_acc_25: 0.9167 - dense_1_acc_26: 0.9500 - dense_1_acc_27: 0.9833 - dense_1_acc_28: 0.9500 - dense_1_acc_29: 0.0000e+00\n",
      "Epoch 36/100\n",
      "60/60 [==============================] - 0s 2ms/step - loss: 22.8725 - dense_1_loss: 0.0000e+00 - dense_1_acc: 0.0333 - dense_1_acc_1: 0.4000 - dense_1_acc_2: 0.6333 - dense_1_acc_3: 0.6833 - dense_1_acc_4: 0.7833 - dense_1_acc_5: 0.9500 - dense_1_acc_6: 0.9667 - dense_1_acc_7: 0.9667 - dense_1_acc_8: 0.9833 - dense_1_acc_9: 1.0000 - dense_1_acc_10: 1.0000 - dense_1_acc_11: 0.9667 - dense_1_acc_12: 1.0000 - dense_1_acc_13: 1.0000 - dense_1_acc_14: 0.9833 - dense_1_acc_15: 1.0000 - dense_1_acc_16: 0.9833 - dense_1_acc_17: 1.0000 - dense_1_acc_18: 1.0000 - dense_1_acc_19: 1.0000 - dense_1_acc_20: 1.0000 - dense_1_acc_21: 1.0000 - dense_1_acc_22: 1.0000 - dense_1_acc_23: 1.0000 - dense_1_acc_24: 0.9833 - dense_1_acc_25: 0.9833 - dense_1_acc_26: 1.0000 - dense_1_acc_27: 1.0000 - dense_1_acc_28: 0.9833 - dense_1_acc_29: 0.0000e+00\n",
      "Epoch 37/100\n"
     ]
    },
    {
     "name": "stdout",
     "output_type": "stream",
     "text": [
      "60/60 [==============================] - 0s 3ms/step - loss: 21.4685 - dense_1_loss: 0.0000e+00 - dense_1_acc: 0.0333 - dense_1_acc_1: 0.4333 - dense_1_acc_2: 0.6500 - dense_1_acc_3: 0.7333 - dense_1_acc_4: 0.8000 - dense_1_acc_5: 0.9667 - dense_1_acc_6: 0.9667 - dense_1_acc_7: 0.9667 - dense_1_acc_8: 0.9833 - dense_1_acc_9: 1.0000 - dense_1_acc_10: 1.0000 - dense_1_acc_11: 0.9667 - dense_1_acc_12: 1.0000 - dense_1_acc_13: 1.0000 - dense_1_acc_14: 1.0000 - dense_1_acc_15: 1.0000 - dense_1_acc_16: 1.0000 - dense_1_acc_17: 1.0000 - dense_1_acc_18: 1.0000 - dense_1_acc_19: 1.0000 - dense_1_acc_20: 1.0000 - dense_1_acc_21: 1.0000 - dense_1_acc_22: 1.0000 - dense_1_acc_23: 1.0000 - dense_1_acc_24: 1.0000 - dense_1_acc_25: 0.9833 - dense_1_acc_26: 1.0000 - dense_1_acc_27: 0.9833 - dense_1_acc_28: 0.9833 - dense_1_acc_29: 0.0000e+00\n",
      "Epoch 38/100\n",
      "60/60 [==============================] - 0s 2ms/step - loss: 20.2934 - dense_1_loss: 0.0000e+00 - dense_1_acc: 0.0333 - dense_1_acc_1: 0.4333 - dense_1_acc_2: 0.6667 - dense_1_acc_3: 0.7500 - dense_1_acc_4: 0.8500 - dense_1_acc_5: 0.9833 - dense_1_acc_6: 0.9667 - dense_1_acc_7: 0.9667 - dense_1_acc_8: 0.9833 - dense_1_acc_9: 1.0000 - dense_1_acc_10: 1.0000 - dense_1_acc_11: 1.0000 - dense_1_acc_12: 1.0000 - dense_1_acc_13: 1.0000 - dense_1_acc_14: 1.0000 - dense_1_acc_15: 1.0000 - dense_1_acc_16: 1.0000 - dense_1_acc_17: 1.0000 - dense_1_acc_18: 1.0000 - dense_1_acc_19: 1.0000 - dense_1_acc_20: 1.0000 - dense_1_acc_21: 1.0000 - dense_1_acc_22: 1.0000 - dense_1_acc_23: 1.0000 - dense_1_acc_24: 1.0000 - dense_1_acc_25: 0.9833 - dense_1_acc_26: 1.0000 - dense_1_acc_27: 1.0000 - dense_1_acc_28: 0.9833 - dense_1_acc_29: 0.0000e+00\n",
      "Epoch 39/100\n",
      "60/60 [==============================] - 0s 3ms/step - loss: 19.0557 - dense_1_loss: 0.0000e+00 - dense_1_acc: 0.0333 - dense_1_acc_1: 0.4500 - dense_1_acc_2: 0.6667 - dense_1_acc_3: 0.7500 - dense_1_acc_4: 0.8833 - dense_1_acc_5: 0.9833 - dense_1_acc_6: 0.9667 - dense_1_acc_7: 0.9667 - dense_1_acc_8: 0.9833 - dense_1_acc_9: 1.0000 - dense_1_acc_10: 1.0000 - dense_1_acc_11: 1.0000 - dense_1_acc_12: 1.0000 - dense_1_acc_13: 1.0000 - dense_1_acc_14: 1.0000 - dense_1_acc_15: 1.0000 - dense_1_acc_16: 1.0000 - dense_1_acc_17: 1.0000 - dense_1_acc_18: 1.0000 - dense_1_acc_19: 1.0000 - dense_1_acc_20: 1.0000 - dense_1_acc_21: 1.0000 - dense_1_acc_22: 1.0000 - dense_1_acc_23: 1.0000 - dense_1_acc_24: 1.0000 - dense_1_acc_25: 0.9833 - dense_1_acc_26: 1.0000 - dense_1_acc_27: 1.0000 - dense_1_acc_28: 0.9833 - dense_1_acc_29: 0.0000e+00\n",
      "Epoch 40/100\n",
      "60/60 [==============================] - 0s 2ms/step - loss: 18.0486 - dense_1_loss: 0.0000e+00 - dense_1_acc: 0.0333 - dense_1_acc_1: 0.4500 - dense_1_acc_2: 0.6500 - dense_1_acc_3: 0.8333 - dense_1_acc_4: 0.8833 - dense_1_acc_5: 0.9833 - dense_1_acc_6: 0.9667 - dense_1_acc_7: 0.9667 - dense_1_acc_8: 0.9833 - dense_1_acc_9: 1.0000 - dense_1_acc_10: 1.0000 - dense_1_acc_11: 1.0000 - dense_1_acc_12: 1.0000 - dense_1_acc_13: 1.0000 - dense_1_acc_14: 1.0000 - dense_1_acc_15: 1.0000 - dense_1_acc_16: 1.0000 - dense_1_acc_17: 1.0000 - dense_1_acc_18: 1.0000 - dense_1_acc_19: 1.0000 - dense_1_acc_20: 1.0000 - dense_1_acc_21: 1.0000 - dense_1_acc_22: 1.0000 - dense_1_acc_23: 1.0000 - dense_1_acc_24: 1.0000 - dense_1_acc_25: 0.9833 - dense_1_acc_26: 1.0000 - dense_1_acc_27: 1.0000 - dense_1_acc_28: 0.9833 - dense_1_acc_29: 0.0000e+00\n",
      "Epoch 41/100\n",
      "60/60 [==============================] - 0s 3ms/step - loss: 17.0847 - dense_1_loss: 0.0000e+00 - dense_1_acc: 0.0333 - dense_1_acc_1: 0.4500 - dense_1_acc_2: 0.6833 - dense_1_acc_3: 0.8333 - dense_1_acc_4: 0.9167 - dense_1_acc_5: 1.0000 - dense_1_acc_6: 0.9833 - dense_1_acc_7: 0.9833 - dense_1_acc_8: 0.9833 - dense_1_acc_9: 1.0000 - dense_1_acc_10: 1.0000 - dense_1_acc_11: 1.0000 - dense_1_acc_12: 1.0000 - dense_1_acc_13: 1.0000 - dense_1_acc_14: 1.0000 - dense_1_acc_15: 1.0000 - dense_1_acc_16: 1.0000 - dense_1_acc_17: 1.0000 - dense_1_acc_18: 1.0000 - dense_1_acc_19: 1.0000 - dense_1_acc_20: 1.0000 - dense_1_acc_21: 1.0000 - dense_1_acc_22: 1.0000 - dense_1_acc_23: 1.0000 - dense_1_acc_24: 1.0000 - dense_1_acc_25: 1.0000 - dense_1_acc_26: 1.0000 - dense_1_acc_27: 1.0000 - dense_1_acc_28: 0.9667 - dense_1_acc_29: 0.0000e+00\n",
      "Epoch 42/100\n",
      "60/60 [==============================] - 0s 2ms/step - loss: 16.1692 - dense_1_loss: 0.0000e+00 - dense_1_acc: 0.0333 - dense_1_acc_1: 0.4333 - dense_1_acc_2: 0.7000 - dense_1_acc_3: 0.8667 - dense_1_acc_4: 0.9167 - dense_1_acc_5: 1.0000 - dense_1_acc_6: 0.9833 - dense_1_acc_7: 0.9667 - dense_1_acc_8: 0.9833 - dense_1_acc_9: 1.0000 - dense_1_acc_10: 1.0000 - dense_1_acc_11: 1.0000 - dense_1_acc_12: 1.0000 - dense_1_acc_13: 1.0000 - dense_1_acc_14: 1.0000 - dense_1_acc_15: 1.0000 - dense_1_acc_16: 1.0000 - dense_1_acc_17: 1.0000 - dense_1_acc_18: 1.0000 - dense_1_acc_19: 1.0000 - dense_1_acc_20: 1.0000 - dense_1_acc_21: 1.0000 - dense_1_acc_22: 1.0000 - dense_1_acc_23: 1.0000 - dense_1_acc_24: 1.0000 - dense_1_acc_25: 1.0000 - dense_1_acc_26: 1.0000 - dense_1_acc_27: 1.0000 - dense_1_acc_28: 0.9833 - dense_1_acc_29: 0.0000e+00\n",
      "Epoch 43/100\n",
      "60/60 [==============================] - 0s 2ms/step - loss: 15.3692 - dense_1_loss: 0.0000e+00 - dense_1_acc: 0.0333 - dense_1_acc_1: 0.4333 - dense_1_acc_2: 0.7167 - dense_1_acc_3: 0.8667 - dense_1_acc_4: 0.9167 - dense_1_acc_5: 1.0000 - dense_1_acc_6: 0.9833 - dense_1_acc_7: 0.9667 - dense_1_acc_8: 0.9833 - dense_1_acc_9: 1.0000 - dense_1_acc_10: 1.0000 - dense_1_acc_11: 1.0000 - dense_1_acc_12: 1.0000 - dense_1_acc_13: 1.0000 - dense_1_acc_14: 1.0000 - dense_1_acc_15: 1.0000 - dense_1_acc_16: 1.0000 - dense_1_acc_17: 1.0000 - dense_1_acc_18: 1.0000 - dense_1_acc_19: 1.0000 - dense_1_acc_20: 1.0000 - dense_1_acc_21: 1.0000 - dense_1_acc_22: 1.0000 - dense_1_acc_23: 1.0000 - dense_1_acc_24: 1.0000 - dense_1_acc_25: 1.0000 - dense_1_acc_26: 1.0000 - dense_1_acc_27: 1.0000 - dense_1_acc_28: 0.9833 - dense_1_acc_29: 0.0000e+00\n",
      "Epoch 44/100\n",
      "60/60 [==============================] - 0s 2ms/step - loss: 14.6329 - dense_1_loss: 0.0000e+00 - dense_1_acc: 0.0333 - dense_1_acc_1: 0.4333 - dense_1_acc_2: 0.7167 - dense_1_acc_3: 0.8833 - dense_1_acc_4: 0.9167 - dense_1_acc_5: 1.0000 - dense_1_acc_6: 0.9833 - dense_1_acc_7: 0.9833 - dense_1_acc_8: 0.9833 - dense_1_acc_9: 1.0000 - dense_1_acc_10: 1.0000 - dense_1_acc_11: 1.0000 - dense_1_acc_12: 1.0000 - dense_1_acc_13: 1.0000 - dense_1_acc_14: 1.0000 - dense_1_acc_15: 1.0000 - dense_1_acc_16: 1.0000 - dense_1_acc_17: 1.0000 - dense_1_acc_18: 1.0000 - dense_1_acc_19: 1.0000 - dense_1_acc_20: 1.0000 - dense_1_acc_21: 1.0000 - dense_1_acc_22: 1.0000 - dense_1_acc_23: 1.0000 - dense_1_acc_24: 1.0000 - dense_1_acc_25: 1.0000 - dense_1_acc_26: 1.0000 - dense_1_acc_27: 1.0000 - dense_1_acc_28: 1.0000 - dense_1_acc_29: 0.0000e+00\n",
      "Epoch 45/100\n",
      "60/60 [==============================] - 0s 3ms/step - loss: 13.9562 - dense_1_loss: 0.0000e+00 - dense_1_acc: 0.0333 - dense_1_acc_1: 0.4333 - dense_1_acc_2: 0.7167 - dense_1_acc_3: 0.9333 - dense_1_acc_4: 0.9167 - dense_1_acc_5: 1.0000 - dense_1_acc_6: 0.9833 - dense_1_acc_7: 0.9833 - dense_1_acc_8: 0.9833 - dense_1_acc_9: 1.0000 - dense_1_acc_10: 1.0000 - dense_1_acc_11: 1.0000 - dense_1_acc_12: 1.0000 - dense_1_acc_13: 1.0000 - dense_1_acc_14: 1.0000 - dense_1_acc_15: 1.0000 - dense_1_acc_16: 1.0000 - dense_1_acc_17: 1.0000 - dense_1_acc_18: 1.0000 - dense_1_acc_19: 1.0000 - dense_1_acc_20: 1.0000 - dense_1_acc_21: 1.0000 - dense_1_acc_22: 1.0000 - dense_1_acc_23: 1.0000 - dense_1_acc_24: 1.0000 - dense_1_acc_25: 1.0000 - dense_1_acc_26: 1.0000 - dense_1_acc_27: 1.0000 - dense_1_acc_28: 1.0000 - dense_1_acc_29: 0.0000e+00\n",
      "Epoch 46/100\n"
     ]
    },
    {
     "name": "stdout",
     "output_type": "stream",
     "text": [
      "60/60 [==============================] - 0s 2ms/step - loss: 13.3594 - dense_1_loss: 0.0000e+00 - dense_1_acc: 0.0333 - dense_1_acc_1: 0.4333 - dense_1_acc_2: 0.7167 - dense_1_acc_3: 0.9333 - dense_1_acc_4: 0.9167 - dense_1_acc_5: 1.0000 - dense_1_acc_6: 0.9833 - dense_1_acc_7: 0.9833 - dense_1_acc_8: 0.9833 - dense_1_acc_9: 1.0000 - dense_1_acc_10: 1.0000 - dense_1_acc_11: 1.0000 - dense_1_acc_12: 1.0000 - dense_1_acc_13: 1.0000 - dense_1_acc_14: 1.0000 - dense_1_acc_15: 1.0000 - dense_1_acc_16: 1.0000 - dense_1_acc_17: 1.0000 - dense_1_acc_18: 1.0000 - dense_1_acc_19: 1.0000 - dense_1_acc_20: 1.0000 - dense_1_acc_21: 1.0000 - dense_1_acc_22: 1.0000 - dense_1_acc_23: 1.0000 - dense_1_acc_24: 1.0000 - dense_1_acc_25: 1.0000 - dense_1_acc_26: 1.0000 - dense_1_acc_27: 1.0000 - dense_1_acc_28: 1.0000 - dense_1_acc_29: 0.0000e+00\n",
      "Epoch 47/100\n",
      "60/60 [==============================] - 0s 3ms/step - loss: 12.7952 - dense_1_loss: 0.0000e+00 - dense_1_acc: 0.0333 - dense_1_acc_1: 0.4333 - dense_1_acc_2: 0.7333 - dense_1_acc_3: 0.9333 - dense_1_acc_4: 0.9167 - dense_1_acc_5: 1.0000 - dense_1_acc_6: 0.9833 - dense_1_acc_7: 0.9833 - dense_1_acc_8: 0.9833 - dense_1_acc_9: 1.0000 - dense_1_acc_10: 1.0000 - dense_1_acc_11: 1.0000 - dense_1_acc_12: 1.0000 - dense_1_acc_13: 1.0000 - dense_1_acc_14: 1.0000 - dense_1_acc_15: 1.0000 - dense_1_acc_16: 1.0000 - dense_1_acc_17: 1.0000 - dense_1_acc_18: 1.0000 - dense_1_acc_19: 1.0000 - dense_1_acc_20: 1.0000 - dense_1_acc_21: 1.0000 - dense_1_acc_22: 1.0000 - dense_1_acc_23: 1.0000 - dense_1_acc_24: 1.0000 - dense_1_acc_25: 1.0000 - dense_1_acc_26: 1.0000 - dense_1_acc_27: 1.0000 - dense_1_acc_28: 1.0000 - dense_1_acc_29: 0.0000e+00\n",
      "Epoch 48/100\n",
      "60/60 [==============================] - 0s 2ms/step - loss: 12.3119 - dense_1_loss: 0.0000e+00 - dense_1_acc: 0.0333 - dense_1_acc_1: 0.4667 - dense_1_acc_2: 0.7500 - dense_1_acc_3: 0.9333 - dense_1_acc_4: 0.9167 - dense_1_acc_5: 1.0000 - dense_1_acc_6: 0.9833 - dense_1_acc_7: 0.9833 - dense_1_acc_8: 0.9833 - dense_1_acc_9: 1.0000 - dense_1_acc_10: 1.0000 - dense_1_acc_11: 1.0000 - dense_1_acc_12: 1.0000 - dense_1_acc_13: 1.0000 - dense_1_acc_14: 1.0000 - dense_1_acc_15: 1.0000 - dense_1_acc_16: 1.0000 - dense_1_acc_17: 1.0000 - dense_1_acc_18: 1.0000 - dense_1_acc_19: 1.0000 - dense_1_acc_20: 1.0000 - dense_1_acc_21: 1.0000 - dense_1_acc_22: 1.0000 - dense_1_acc_23: 1.0000 - dense_1_acc_24: 1.0000 - dense_1_acc_25: 1.0000 - dense_1_acc_26: 1.0000 - dense_1_acc_27: 1.0000 - dense_1_acc_28: 0.9833 - dense_1_acc_29: 0.0000e+00\n",
      "Epoch 49/100\n",
      "60/60 [==============================] - 0s 3ms/step - loss: 11.8405 - dense_1_loss: 0.0000e+00 - dense_1_acc: 0.0333 - dense_1_acc_1: 0.4667 - dense_1_acc_2: 0.7667 - dense_1_acc_3: 0.9500 - dense_1_acc_4: 0.9167 - dense_1_acc_5: 1.0000 - dense_1_acc_6: 0.9833 - dense_1_acc_7: 0.9833 - dense_1_acc_8: 0.9833 - dense_1_acc_9: 1.0000 - dense_1_acc_10: 1.0000 - dense_1_acc_11: 1.0000 - dense_1_acc_12: 1.0000 - dense_1_acc_13: 1.0000 - dense_1_acc_14: 1.0000 - dense_1_acc_15: 1.0000 - dense_1_acc_16: 1.0000 - dense_1_acc_17: 1.0000 - dense_1_acc_18: 1.0000 - dense_1_acc_19: 1.0000 - dense_1_acc_20: 1.0000 - dense_1_acc_21: 1.0000 - dense_1_acc_22: 1.0000 - dense_1_acc_23: 1.0000 - dense_1_acc_24: 1.0000 - dense_1_acc_25: 1.0000 - dense_1_acc_26: 1.0000 - dense_1_acc_27: 1.0000 - dense_1_acc_28: 1.0000 - dense_1_acc_29: 0.0000e+00\n",
      "Epoch 50/100\n",
      "60/60 [==============================] - 0s 2ms/step - loss: 11.4335 - dense_1_loss: 0.0000e+00 - dense_1_acc: 0.0333 - dense_1_acc_1: 0.4833 - dense_1_acc_2: 0.7667 - dense_1_acc_3: 0.9500 - dense_1_acc_4: 0.9167 - dense_1_acc_5: 1.0000 - dense_1_acc_6: 0.9833 - dense_1_acc_7: 0.9833 - dense_1_acc_8: 0.9833 - dense_1_acc_9: 1.0000 - dense_1_acc_10: 1.0000 - dense_1_acc_11: 1.0000 - dense_1_acc_12: 1.0000 - dense_1_acc_13: 1.0000 - dense_1_acc_14: 1.0000 - dense_1_acc_15: 1.0000 - dense_1_acc_16: 1.0000 - dense_1_acc_17: 1.0000 - dense_1_acc_18: 1.0000 - dense_1_acc_19: 1.0000 - dense_1_acc_20: 1.0000 - dense_1_acc_21: 1.0000 - dense_1_acc_22: 1.0000 - dense_1_acc_23: 1.0000 - dense_1_acc_24: 1.0000 - dense_1_acc_25: 1.0000 - dense_1_acc_26: 1.0000 - dense_1_acc_27: 1.0000 - dense_1_acc_28: 1.0000 - dense_1_acc_29: 0.0000e+00\n",
      "Epoch 51/100\n",
      "60/60 [==============================] - 0s 3ms/step - loss: 11.0564 - dense_1_loss: 0.0000e+00 - dense_1_acc: 0.0333 - dense_1_acc_1: 0.4833 - dense_1_acc_2: 0.8000 - dense_1_acc_3: 0.9500 - dense_1_acc_4: 0.9167 - dense_1_acc_5: 1.0000 - dense_1_acc_6: 0.9833 - dense_1_acc_7: 0.9833 - dense_1_acc_8: 0.9833 - dense_1_acc_9: 1.0000 - dense_1_acc_10: 1.0000 - dense_1_acc_11: 1.0000 - dense_1_acc_12: 1.0000 - dense_1_acc_13: 1.0000 - dense_1_acc_14: 1.0000 - dense_1_acc_15: 1.0000 - dense_1_acc_16: 1.0000 - dense_1_acc_17: 1.0000 - dense_1_acc_18: 1.0000 - dense_1_acc_19: 1.0000 - dense_1_acc_20: 1.0000 - dense_1_acc_21: 1.0000 - dense_1_acc_22: 1.0000 - dense_1_acc_23: 1.0000 - dense_1_acc_24: 1.0000 - dense_1_acc_25: 1.0000 - dense_1_acc_26: 1.0000 - dense_1_acc_27: 1.0000 - dense_1_acc_28: 1.0000 - dense_1_acc_29: 0.0000e+00\n",
      "Epoch 52/100\n",
      "60/60 [==============================] - 0s 3ms/step - loss: 10.7097 - dense_1_loss: 0.0000e+00 - dense_1_acc: 0.0333 - dense_1_acc_1: 0.4833 - dense_1_acc_2: 0.8000 - dense_1_acc_3: 0.9500 - dense_1_acc_4: 0.9167 - dense_1_acc_5: 1.0000 - dense_1_acc_6: 0.9833 - dense_1_acc_7: 0.9833 - dense_1_acc_8: 0.9833 - dense_1_acc_9: 1.0000 - dense_1_acc_10: 1.0000 - dense_1_acc_11: 1.0000 - dense_1_acc_12: 1.0000 - dense_1_acc_13: 1.0000 - dense_1_acc_14: 1.0000 - dense_1_acc_15: 1.0000 - dense_1_acc_16: 1.0000 - dense_1_acc_17: 1.0000 - dense_1_acc_18: 1.0000 - dense_1_acc_19: 1.0000 - dense_1_acc_20: 1.0000 - dense_1_acc_21: 1.0000 - dense_1_acc_22: 1.0000 - dense_1_acc_23: 1.0000 - dense_1_acc_24: 1.0000 - dense_1_acc_25: 1.0000 - dense_1_acc_26: 1.0000 - dense_1_acc_27: 1.0000 - dense_1_acc_28: 1.0000 - dense_1_acc_29: 0.0000e+00\n",
      "Epoch 53/100\n",
      "60/60 [==============================] - 0s 3ms/step - loss: 10.4087 - dense_1_loss: 0.0000e+00 - dense_1_acc: 0.0333 - dense_1_acc_1: 0.4833 - dense_1_acc_2: 0.8000 - dense_1_acc_3: 0.9500 - dense_1_acc_4: 0.9667 - dense_1_acc_5: 1.0000 - dense_1_acc_6: 0.9833 - dense_1_acc_7: 0.9833 - dense_1_acc_8: 0.9833 - dense_1_acc_9: 1.0000 - dense_1_acc_10: 1.0000 - dense_1_acc_11: 1.0000 - dense_1_acc_12: 1.0000 - dense_1_acc_13: 1.0000 - dense_1_acc_14: 1.0000 - dense_1_acc_15: 1.0000 - dense_1_acc_16: 1.0000 - dense_1_acc_17: 1.0000 - dense_1_acc_18: 1.0000 - dense_1_acc_19: 1.0000 - dense_1_acc_20: 1.0000 - dense_1_acc_21: 1.0000 - dense_1_acc_22: 1.0000 - dense_1_acc_23: 1.0000 - dense_1_acc_24: 1.0000 - dense_1_acc_25: 1.0000 - dense_1_acc_26: 1.0000 - dense_1_acc_27: 1.0000 - dense_1_acc_28: 1.0000 - dense_1_acc_29: 0.0000e+00\n",
      "Epoch 54/100\n",
      "60/60 [==============================] - 0s 3ms/step - loss: 10.1071 - dense_1_loss: 0.0000e+00 - dense_1_acc: 0.0333 - dense_1_acc_1: 0.4833 - dense_1_acc_2: 0.8000 - dense_1_acc_3: 0.9500 - dense_1_acc_4: 0.9667 - dense_1_acc_5: 1.0000 - dense_1_acc_6: 0.9833 - dense_1_acc_7: 1.0000 - dense_1_acc_8: 0.9833 - dense_1_acc_9: 1.0000 - dense_1_acc_10: 1.0000 - dense_1_acc_11: 1.0000 - dense_1_acc_12: 1.0000 - dense_1_acc_13: 1.0000 - dense_1_acc_14: 1.0000 - dense_1_acc_15: 1.0000 - dense_1_acc_16: 1.0000 - dense_1_acc_17: 1.0000 - dense_1_acc_18: 1.0000 - dense_1_acc_19: 1.0000 - dense_1_acc_20: 1.0000 - dense_1_acc_21: 1.0000 - dense_1_acc_22: 1.0000 - dense_1_acc_23: 1.0000 - dense_1_acc_24: 1.0000 - dense_1_acc_25: 1.0000 - dense_1_acc_26: 1.0000 - dense_1_acc_27: 1.0000 - dense_1_acc_28: 1.0000 - dense_1_acc_29: 0.0000e+00\n",
      "Epoch 55/100\n"
     ]
    },
    {
     "name": "stdout",
     "output_type": "stream",
     "text": [
      "60/60 [==============================] - 0s 2ms/step - loss: 9.8563 - dense_1_loss: 0.0000e+00 - dense_1_acc: 0.0333 - dense_1_acc_1: 0.4833 - dense_1_acc_2: 0.8000 - dense_1_acc_3: 0.9500 - dense_1_acc_4: 0.9667 - dense_1_acc_5: 1.0000 - dense_1_acc_6: 0.9833 - dense_1_acc_7: 1.0000 - dense_1_acc_8: 0.9833 - dense_1_acc_9: 1.0000 - dense_1_acc_10: 1.0000 - dense_1_acc_11: 1.0000 - dense_1_acc_12: 1.0000 - dense_1_acc_13: 1.0000 - dense_1_acc_14: 1.0000 - dense_1_acc_15: 1.0000 - dense_1_acc_16: 1.0000 - dense_1_acc_17: 1.0000 - dense_1_acc_18: 1.0000 - dense_1_acc_19: 1.0000 - dense_1_acc_20: 1.0000 - dense_1_acc_21: 1.0000 - dense_1_acc_22: 1.0000 - dense_1_acc_23: 1.0000 - dense_1_acc_24: 1.0000 - dense_1_acc_25: 1.0000 - dense_1_acc_26: 1.0000 - dense_1_acc_27: 1.0000 - dense_1_acc_28: 1.0000 - dense_1_acc_29: 0.0000e+00\n",
      "Epoch 56/100\n",
      "60/60 [==============================] - 0s 2ms/step - loss: 9.6065 - dense_1_loss: 0.0000e+00 - dense_1_acc: 0.0333 - dense_1_acc_1: 0.4833 - dense_1_acc_2: 0.8167 - dense_1_acc_3: 0.9667 - dense_1_acc_4: 0.9667 - dense_1_acc_5: 1.0000 - dense_1_acc_6: 0.9833 - dense_1_acc_7: 1.0000 - dense_1_acc_8: 0.9833 - dense_1_acc_9: 1.0000 - dense_1_acc_10: 1.0000 - dense_1_acc_11: 1.0000 - dense_1_acc_12: 1.0000 - dense_1_acc_13: 1.0000 - dense_1_acc_14: 1.0000 - dense_1_acc_15: 1.0000 - dense_1_acc_16: 1.0000 - dense_1_acc_17: 1.0000 - dense_1_acc_18: 1.0000 - dense_1_acc_19: 1.0000 - dense_1_acc_20: 1.0000 - dense_1_acc_21: 1.0000 - dense_1_acc_22: 1.0000 - dense_1_acc_23: 1.0000 - dense_1_acc_24: 1.0000 - dense_1_acc_25: 1.0000 - dense_1_acc_26: 1.0000 - dense_1_acc_27: 1.0000 - dense_1_acc_28: 1.0000 - dense_1_acc_29: 0.0000e+00\n",
      "Epoch 57/100\n",
      "60/60 [==============================] - 0s 3ms/step - loss: 9.3799 - dense_1_loss: 0.0000e+00 - dense_1_acc: 0.0333 - dense_1_acc_1: 0.5167 - dense_1_acc_2: 0.8333 - dense_1_acc_3: 0.9667 - dense_1_acc_4: 0.9667 - dense_1_acc_5: 1.0000 - dense_1_acc_6: 0.9833 - dense_1_acc_7: 1.0000 - dense_1_acc_8: 0.9833 - dense_1_acc_9: 1.0000 - dense_1_acc_10: 1.0000 - dense_1_acc_11: 1.0000 - dense_1_acc_12: 1.0000 - dense_1_acc_13: 1.0000 - dense_1_acc_14: 1.0000 - dense_1_acc_15: 1.0000 - dense_1_acc_16: 1.0000 - dense_1_acc_17: 1.0000 - dense_1_acc_18: 1.0000 - dense_1_acc_19: 1.0000 - dense_1_acc_20: 1.0000 - dense_1_acc_21: 1.0000 - dense_1_acc_22: 1.0000 - dense_1_acc_23: 1.0000 - dense_1_acc_24: 1.0000 - dense_1_acc_25: 1.0000 - dense_1_acc_26: 1.0000 - dense_1_acc_27: 1.0000 - dense_1_acc_28: 1.0000 - dense_1_acc_29: 0.0000e+00\n",
      "Epoch 58/100\n",
      "60/60 [==============================] - 0s 2ms/step - loss: 9.1794 - dense_1_loss: 0.0000e+00 - dense_1_acc: 0.0333 - dense_1_acc_1: 0.5167 - dense_1_acc_2: 0.8500 - dense_1_acc_3: 0.9667 - dense_1_acc_4: 0.9667 - dense_1_acc_5: 1.0000 - dense_1_acc_6: 1.0000 - dense_1_acc_7: 1.0000 - dense_1_acc_8: 0.9833 - dense_1_acc_9: 1.0000 - dense_1_acc_10: 1.0000 - dense_1_acc_11: 1.0000 - dense_1_acc_12: 1.0000 - dense_1_acc_13: 1.0000 - dense_1_acc_14: 1.0000 - dense_1_acc_15: 1.0000 - dense_1_acc_16: 1.0000 - dense_1_acc_17: 1.0000 - dense_1_acc_18: 1.0000 - dense_1_acc_19: 1.0000 - dense_1_acc_20: 1.0000 - dense_1_acc_21: 1.0000 - dense_1_acc_22: 1.0000 - dense_1_acc_23: 1.0000 - dense_1_acc_24: 1.0000 - dense_1_acc_25: 1.0000 - dense_1_acc_26: 1.0000 - dense_1_acc_27: 1.0000 - dense_1_acc_28: 1.0000 - dense_1_acc_29: 0.0000e+00\n",
      "Epoch 59/100\n",
      "60/60 [==============================] - 0s 2ms/step - loss: 8.9857 - dense_1_loss: 0.0000e+00 - dense_1_acc: 0.0333 - dense_1_acc_1: 0.5167 - dense_1_acc_2: 0.8500 - dense_1_acc_3: 0.9667 - dense_1_acc_4: 0.9833 - dense_1_acc_5: 1.0000 - dense_1_acc_6: 1.0000 - dense_1_acc_7: 1.0000 - dense_1_acc_8: 0.9833 - dense_1_acc_9: 1.0000 - dense_1_acc_10: 1.0000 - dense_1_acc_11: 1.0000 - dense_1_acc_12: 1.0000 - dense_1_acc_13: 1.0000 - dense_1_acc_14: 1.0000 - dense_1_acc_15: 1.0000 - dense_1_acc_16: 1.0000 - dense_1_acc_17: 1.0000 - dense_1_acc_18: 1.0000 - dense_1_acc_19: 1.0000 - dense_1_acc_20: 1.0000 - dense_1_acc_21: 1.0000 - dense_1_acc_22: 1.0000 - dense_1_acc_23: 1.0000 - dense_1_acc_24: 1.0000 - dense_1_acc_25: 1.0000 - dense_1_acc_26: 1.0000 - dense_1_acc_27: 1.0000 - dense_1_acc_28: 1.0000 - dense_1_acc_29: 0.0000e+00\n",
      "Epoch 60/100\n",
      "60/60 [==============================] - 0s 3ms/step - loss: 8.8007 - dense_1_loss: 0.0000e+00 - dense_1_acc: 0.0333 - dense_1_acc_1: 0.5167 - dense_1_acc_2: 0.8500 - dense_1_acc_3: 0.9667 - dense_1_acc_4: 0.9833 - dense_1_acc_5: 1.0000 - dense_1_acc_6: 1.0000 - dense_1_acc_7: 1.0000 - dense_1_acc_8: 1.0000 - dense_1_acc_9: 1.0000 - dense_1_acc_10: 1.0000 - dense_1_acc_11: 1.0000 - dense_1_acc_12: 1.0000 - dense_1_acc_13: 1.0000 - dense_1_acc_14: 1.0000 - dense_1_acc_15: 1.0000 - dense_1_acc_16: 1.0000 - dense_1_acc_17: 1.0000 - dense_1_acc_18: 1.0000 - dense_1_acc_19: 1.0000 - dense_1_acc_20: 1.0000 - dense_1_acc_21: 1.0000 - dense_1_acc_22: 1.0000 - dense_1_acc_23: 1.0000 - dense_1_acc_24: 1.0000 - dense_1_acc_25: 1.0000 - dense_1_acc_26: 1.0000 - dense_1_acc_27: 1.0000 - dense_1_acc_28: 1.0000 - dense_1_acc_29: 0.0000e+00\n",
      "Epoch 61/100\n",
      "60/60 [==============================] - 0s 3ms/step - loss: 8.6388 - dense_1_loss: 0.0000e+00 - dense_1_acc: 0.0333 - dense_1_acc_1: 0.5167 - dense_1_acc_2: 0.8500 - dense_1_acc_3: 0.9667 - dense_1_acc_4: 0.9833 - dense_1_acc_5: 1.0000 - dense_1_acc_6: 1.0000 - dense_1_acc_7: 1.0000 - dense_1_acc_8: 1.0000 - dense_1_acc_9: 1.0000 - dense_1_acc_10: 1.0000 - dense_1_acc_11: 1.0000 - dense_1_acc_12: 1.0000 - dense_1_acc_13: 1.0000 - dense_1_acc_14: 1.0000 - dense_1_acc_15: 1.0000 - dense_1_acc_16: 1.0000 - dense_1_acc_17: 1.0000 - dense_1_acc_18: 1.0000 - dense_1_acc_19: 1.0000 - dense_1_acc_20: 1.0000 - dense_1_acc_21: 1.0000 - dense_1_acc_22: 1.0000 - dense_1_acc_23: 1.0000 - dense_1_acc_24: 1.0000 - dense_1_acc_25: 1.0000 - dense_1_acc_26: 1.0000 - dense_1_acc_27: 1.0000 - dense_1_acc_28: 1.0000 - dense_1_acc_29: 0.0000e+00\n",
      "Epoch 62/100\n",
      "60/60 [==============================] - 0s 3ms/step - loss: 8.4882 - dense_1_loss: 0.0000e+00 - dense_1_acc: 0.0333 - dense_1_acc_1: 0.5167 - dense_1_acc_2: 0.8667 - dense_1_acc_3: 0.9667 - dense_1_acc_4: 0.9833 - dense_1_acc_5: 1.0000 - dense_1_acc_6: 1.0000 - dense_1_acc_7: 1.0000 - dense_1_acc_8: 1.0000 - dense_1_acc_9: 1.0000 - dense_1_acc_10: 1.0000 - dense_1_acc_11: 1.0000 - dense_1_acc_12: 1.0000 - dense_1_acc_13: 1.0000 - dense_1_acc_14: 1.0000 - dense_1_acc_15: 1.0000 - dense_1_acc_16: 1.0000 - dense_1_acc_17: 1.0000 - dense_1_acc_18: 1.0000 - dense_1_acc_19: 1.0000 - dense_1_acc_20: 1.0000 - dense_1_acc_21: 1.0000 - dense_1_acc_22: 1.0000 - dense_1_acc_23: 1.0000 - dense_1_acc_24: 1.0000 - dense_1_acc_25: 1.0000 - dense_1_acc_26: 1.0000 - dense_1_acc_27: 1.0000 - dense_1_acc_28: 1.0000 - dense_1_acc_29: 0.0000e+00\n",
      "Epoch 63/100\n",
      "60/60 [==============================] - 0s 3ms/step - loss: 8.3404 - dense_1_loss: 0.0000e+00 - dense_1_acc: 0.0333 - dense_1_acc_1: 0.5167 - dense_1_acc_2: 0.8667 - dense_1_acc_3: 0.9667 - dense_1_acc_4: 0.9833 - dense_1_acc_5: 1.0000 - dense_1_acc_6: 1.0000 - dense_1_acc_7: 1.0000 - dense_1_acc_8: 1.0000 - dense_1_acc_9: 1.0000 - dense_1_acc_10: 1.0000 - dense_1_acc_11: 1.0000 - dense_1_acc_12: 1.0000 - dense_1_acc_13: 1.0000 - dense_1_acc_14: 1.0000 - dense_1_acc_15: 1.0000 - dense_1_acc_16: 1.0000 - dense_1_acc_17: 1.0000 - dense_1_acc_18: 1.0000 - dense_1_acc_19: 1.0000 - dense_1_acc_20: 1.0000 - dense_1_acc_21: 1.0000 - dense_1_acc_22: 1.0000 - dense_1_acc_23: 1.0000 - dense_1_acc_24: 1.0000 - dense_1_acc_25: 1.0000 - dense_1_acc_26: 1.0000 - dense_1_acc_27: 1.0000 - dense_1_acc_28: 1.0000 - dense_1_acc_29: 0.0000e+00\n",
      "Epoch 64/100\n"
     ]
    },
    {
     "name": "stdout",
     "output_type": "stream",
     "text": [
      "60/60 [==============================] - 0s 3ms/step - loss: 8.2041 - dense_1_loss: 0.0000e+00 - dense_1_acc: 0.0333 - dense_1_acc_1: 0.5167 - dense_1_acc_2: 0.8667 - dense_1_acc_3: 0.9667 - dense_1_acc_4: 0.9833 - dense_1_acc_5: 1.0000 - dense_1_acc_6: 1.0000 - dense_1_acc_7: 1.0000 - dense_1_acc_8: 1.0000 - dense_1_acc_9: 1.0000 - dense_1_acc_10: 1.0000 - dense_1_acc_11: 1.0000 - dense_1_acc_12: 1.0000 - dense_1_acc_13: 1.0000 - dense_1_acc_14: 1.0000 - dense_1_acc_15: 1.0000 - dense_1_acc_16: 1.0000 - dense_1_acc_17: 1.0000 - dense_1_acc_18: 1.0000 - dense_1_acc_19: 1.0000 - dense_1_acc_20: 1.0000 - dense_1_acc_21: 1.0000 - dense_1_acc_22: 1.0000 - dense_1_acc_23: 1.0000 - dense_1_acc_24: 1.0000 - dense_1_acc_25: 1.0000 - dense_1_acc_26: 1.0000 - dense_1_acc_27: 1.0000 - dense_1_acc_28: 1.0000 - dense_1_acc_29: 0.0000e+00\n",
      "Epoch 65/100\n",
      "60/60 [==============================] - 0s 2ms/step - loss: 8.0802 - dense_1_loss: 0.0000e+00 - dense_1_acc: 0.0333 - dense_1_acc_1: 0.5500 - dense_1_acc_2: 0.8667 - dense_1_acc_3: 0.9667 - dense_1_acc_4: 0.9833 - dense_1_acc_5: 1.0000 - dense_1_acc_6: 1.0000 - dense_1_acc_7: 1.0000 - dense_1_acc_8: 1.0000 - dense_1_acc_9: 1.0000 - dense_1_acc_10: 1.0000 - dense_1_acc_11: 1.0000 - dense_1_acc_12: 1.0000 - dense_1_acc_13: 1.0000 - dense_1_acc_14: 1.0000 - dense_1_acc_15: 1.0000 - dense_1_acc_16: 1.0000 - dense_1_acc_17: 1.0000 - dense_1_acc_18: 1.0000 - dense_1_acc_19: 1.0000 - dense_1_acc_20: 1.0000 - dense_1_acc_21: 1.0000 - dense_1_acc_22: 1.0000 - dense_1_acc_23: 1.0000 - dense_1_acc_24: 1.0000 - dense_1_acc_25: 1.0000 - dense_1_acc_26: 1.0000 - dense_1_acc_27: 1.0000 - dense_1_acc_28: 1.0000 - dense_1_acc_29: 0.0000e+00\n",
      "Epoch 66/100\n",
      "60/60 [==============================] - 0s 2ms/step - loss: 7.9589 - dense_1_loss: 0.0000e+00 - dense_1_acc: 0.0333 - dense_1_acc_1: 0.5667 - dense_1_acc_2: 0.8667 - dense_1_acc_3: 0.9667 - dense_1_acc_4: 0.9833 - dense_1_acc_5: 1.0000 - dense_1_acc_6: 1.0000 - dense_1_acc_7: 1.0000 - dense_1_acc_8: 1.0000 - dense_1_acc_9: 1.0000 - dense_1_acc_10: 1.0000 - dense_1_acc_11: 1.0000 - dense_1_acc_12: 1.0000 - dense_1_acc_13: 1.0000 - dense_1_acc_14: 1.0000 - dense_1_acc_15: 1.0000 - dense_1_acc_16: 1.0000 - dense_1_acc_17: 1.0000 - dense_1_acc_18: 1.0000 - dense_1_acc_19: 1.0000 - dense_1_acc_20: 1.0000 - dense_1_acc_21: 1.0000 - dense_1_acc_22: 1.0000 - dense_1_acc_23: 1.0000 - dense_1_acc_24: 1.0000 - dense_1_acc_25: 1.0000 - dense_1_acc_26: 1.0000 - dense_1_acc_27: 1.0000 - dense_1_acc_28: 1.0000 - dense_1_acc_29: 0.0000e+00\n",
      "Epoch 67/100\n",
      "60/60 [==============================] - 0s 2ms/step - loss: 7.8480 - dense_1_loss: 0.0000e+00 - dense_1_acc: 0.0333 - dense_1_acc_1: 0.5667 - dense_1_acc_2: 0.8667 - dense_1_acc_3: 0.9667 - dense_1_acc_4: 0.9833 - dense_1_acc_5: 1.0000 - dense_1_acc_6: 1.0000 - dense_1_acc_7: 1.0000 - dense_1_acc_8: 1.0000 - dense_1_acc_9: 1.0000 - dense_1_acc_10: 1.0000 - dense_1_acc_11: 1.0000 - dense_1_acc_12: 1.0000 - dense_1_acc_13: 1.0000 - dense_1_acc_14: 1.0000 - dense_1_acc_15: 1.0000 - dense_1_acc_16: 1.0000 - dense_1_acc_17: 1.0000 - dense_1_acc_18: 1.0000 - dense_1_acc_19: 1.0000 - dense_1_acc_20: 1.0000 - dense_1_acc_21: 1.0000 - dense_1_acc_22: 1.0000 - dense_1_acc_23: 1.0000 - dense_1_acc_24: 1.0000 - dense_1_acc_25: 1.0000 - dense_1_acc_26: 1.0000 - dense_1_acc_27: 1.0000 - dense_1_acc_28: 1.0000 - dense_1_acc_29: 0.0000e+00\n",
      "Epoch 68/100\n",
      "60/60 [==============================] - 0s 2ms/step - loss: 7.7431 - dense_1_loss: 0.0000e+00 - dense_1_acc: 0.0333 - dense_1_acc_1: 0.5667 - dense_1_acc_2: 0.8833 - dense_1_acc_3: 0.9667 - dense_1_acc_4: 0.9833 - dense_1_acc_5: 1.0000 - dense_1_acc_6: 1.0000 - dense_1_acc_7: 1.0000 - dense_1_acc_8: 1.0000 - dense_1_acc_9: 1.0000 - dense_1_acc_10: 1.0000 - dense_1_acc_11: 1.0000 - dense_1_acc_12: 1.0000 - dense_1_acc_13: 1.0000 - dense_1_acc_14: 1.0000 - dense_1_acc_15: 1.0000 - dense_1_acc_16: 1.0000 - dense_1_acc_17: 1.0000 - dense_1_acc_18: 1.0000 - dense_1_acc_19: 1.0000 - dense_1_acc_20: 1.0000 - dense_1_acc_21: 1.0000 - dense_1_acc_22: 1.0000 - dense_1_acc_23: 1.0000 - dense_1_acc_24: 1.0000 - dense_1_acc_25: 1.0000 - dense_1_acc_26: 1.0000 - dense_1_acc_27: 1.0000 - dense_1_acc_28: 1.0000 - dense_1_acc_29: 0.0000e+00\n",
      "Epoch 69/100\n",
      "60/60 [==============================] - 0s 2ms/step - loss: 7.6409 - dense_1_loss: 0.0000e+00 - dense_1_acc: 0.0333 - dense_1_acc_1: 0.5667 - dense_1_acc_2: 0.8833 - dense_1_acc_3: 0.9667 - dense_1_acc_4: 0.9833 - dense_1_acc_5: 1.0000 - dense_1_acc_6: 1.0000 - dense_1_acc_7: 1.0000 - dense_1_acc_8: 1.0000 - dense_1_acc_9: 1.0000 - dense_1_acc_10: 1.0000 - dense_1_acc_11: 1.0000 - dense_1_acc_12: 1.0000 - dense_1_acc_13: 1.0000 - dense_1_acc_14: 1.0000 - dense_1_acc_15: 1.0000 - dense_1_acc_16: 1.0000 - dense_1_acc_17: 1.0000 - dense_1_acc_18: 1.0000 - dense_1_acc_19: 1.0000 - dense_1_acc_20: 1.0000 - dense_1_acc_21: 1.0000 - dense_1_acc_22: 1.0000 - dense_1_acc_23: 1.0000 - dense_1_acc_24: 1.0000 - dense_1_acc_25: 1.0000 - dense_1_acc_26: 1.0000 - dense_1_acc_27: 1.0000 - dense_1_acc_28: 1.0000 - dense_1_acc_29: 0.0000e+00\n",
      "Epoch 70/100\n",
      "60/60 [==============================] - 0s 3ms/step - loss: 7.5447 - dense_1_loss: 0.0000e+00 - dense_1_acc: 0.0333 - dense_1_acc_1: 0.6000 - dense_1_acc_2: 0.8833 - dense_1_acc_3: 0.9667 - dense_1_acc_4: 0.9833 - dense_1_acc_5: 1.0000 - dense_1_acc_6: 1.0000 - dense_1_acc_7: 1.0000 - dense_1_acc_8: 1.0000 - dense_1_acc_9: 1.0000 - dense_1_acc_10: 1.0000 - dense_1_acc_11: 1.0000 - dense_1_acc_12: 1.0000 - dense_1_acc_13: 1.0000 - dense_1_acc_14: 1.0000 - dense_1_acc_15: 1.0000 - dense_1_acc_16: 1.0000 - dense_1_acc_17: 1.0000 - dense_1_acc_18: 1.0000 - dense_1_acc_19: 1.0000 - dense_1_acc_20: 1.0000 - dense_1_acc_21: 1.0000 - dense_1_acc_22: 1.0000 - dense_1_acc_23: 1.0000 - dense_1_acc_24: 1.0000 - dense_1_acc_25: 1.0000 - dense_1_acc_26: 1.0000 - dense_1_acc_27: 1.0000 - dense_1_acc_28: 1.0000 - dense_1_acc_29: 0.0000e+00\n",
      "Epoch 71/100\n",
      "60/60 [==============================] - 0s 2ms/step - loss: 7.4550 - dense_1_loss: 0.0000e+00 - dense_1_acc: 0.0333 - dense_1_acc_1: 0.6167 - dense_1_acc_2: 0.8833 - dense_1_acc_3: 0.9667 - dense_1_acc_4: 0.9833 - dense_1_acc_5: 1.0000 - dense_1_acc_6: 1.0000 - dense_1_acc_7: 1.0000 - dense_1_acc_8: 1.0000 - dense_1_acc_9: 1.0000 - dense_1_acc_10: 1.0000 - dense_1_acc_11: 1.0000 - dense_1_acc_12: 1.0000 - dense_1_acc_13: 1.0000 - dense_1_acc_14: 1.0000 - dense_1_acc_15: 1.0000 - dense_1_acc_16: 1.0000 - dense_1_acc_17: 1.0000 - dense_1_acc_18: 1.0000 - dense_1_acc_19: 1.0000 - dense_1_acc_20: 1.0000 - dense_1_acc_21: 1.0000 - dense_1_acc_22: 1.0000 - dense_1_acc_23: 1.0000 - dense_1_acc_24: 1.0000 - dense_1_acc_25: 1.0000 - dense_1_acc_26: 1.0000 - dense_1_acc_27: 1.0000 - dense_1_acc_28: 1.0000 - dense_1_acc_29: 0.0000e+00\n",
      "Epoch 72/100\n",
      "60/60 [==============================] - 0s 2ms/step - loss: 7.3691 - dense_1_loss: 0.0000e+00 - dense_1_acc: 0.0333 - dense_1_acc_1: 0.6167 - dense_1_acc_2: 0.8833 - dense_1_acc_3: 0.9667 - dense_1_acc_4: 0.9833 - dense_1_acc_5: 1.0000 - dense_1_acc_6: 1.0000 - dense_1_acc_7: 1.0000 - dense_1_acc_8: 1.0000 - dense_1_acc_9: 1.0000 - dense_1_acc_10: 1.0000 - dense_1_acc_11: 1.0000 - dense_1_acc_12: 1.0000 - dense_1_acc_13: 1.0000 - dense_1_acc_14: 1.0000 - dense_1_acc_15: 1.0000 - dense_1_acc_16: 1.0000 - dense_1_acc_17: 1.0000 - dense_1_acc_18: 1.0000 - dense_1_acc_19: 1.0000 - dense_1_acc_20: 1.0000 - dense_1_acc_21: 1.0000 - dense_1_acc_22: 1.0000 - dense_1_acc_23: 1.0000 - dense_1_acc_24: 1.0000 - dense_1_acc_25: 1.0000 - dense_1_acc_26: 1.0000 - dense_1_acc_27: 1.0000 - dense_1_acc_28: 1.0000 - dense_1_acc_29: 0.0000e+00\n",
      "Epoch 73/100\n"
     ]
    },
    {
     "name": "stdout",
     "output_type": "stream",
     "text": [
      "60/60 [==============================] - 0s 3ms/step - loss: 7.2892 - dense_1_loss: 0.0000e+00 - dense_1_acc: 0.0333 - dense_1_acc_1: 0.6167 - dense_1_acc_2: 0.8833 - dense_1_acc_3: 0.9667 - dense_1_acc_4: 0.9833 - dense_1_acc_5: 1.0000 - dense_1_acc_6: 1.0000 - dense_1_acc_7: 1.0000 - dense_1_acc_8: 1.0000 - dense_1_acc_9: 1.0000 - dense_1_acc_10: 1.0000 - dense_1_acc_11: 1.0000 - dense_1_acc_12: 1.0000 - dense_1_acc_13: 1.0000 - dense_1_acc_14: 1.0000 - dense_1_acc_15: 1.0000 - dense_1_acc_16: 1.0000 - dense_1_acc_17: 1.0000 - dense_1_acc_18: 1.0000 - dense_1_acc_19: 1.0000 - dense_1_acc_20: 1.0000 - dense_1_acc_21: 1.0000 - dense_1_acc_22: 1.0000 - dense_1_acc_23: 1.0000 - dense_1_acc_24: 1.0000 - dense_1_acc_25: 1.0000 - dense_1_acc_26: 1.0000 - dense_1_acc_27: 1.0000 - dense_1_acc_28: 1.0000 - dense_1_acc_29: 0.0000e+00\n",
      "Epoch 74/100\n",
      "60/60 [==============================] - 0s 2ms/step - loss: 7.2083 - dense_1_loss: 0.0000e+00 - dense_1_acc: 0.0333 - dense_1_acc_1: 0.6167 - dense_1_acc_2: 0.8833 - dense_1_acc_3: 0.9667 - dense_1_acc_4: 0.9833 - dense_1_acc_5: 1.0000 - dense_1_acc_6: 1.0000 - dense_1_acc_7: 1.0000 - dense_1_acc_8: 1.0000 - dense_1_acc_9: 1.0000 - dense_1_acc_10: 1.0000 - dense_1_acc_11: 1.0000 - dense_1_acc_12: 1.0000 - dense_1_acc_13: 1.0000 - dense_1_acc_14: 1.0000 - dense_1_acc_15: 1.0000 - dense_1_acc_16: 1.0000 - dense_1_acc_17: 1.0000 - dense_1_acc_18: 1.0000 - dense_1_acc_19: 1.0000 - dense_1_acc_20: 1.0000 - dense_1_acc_21: 1.0000 - dense_1_acc_22: 1.0000 - dense_1_acc_23: 1.0000 - dense_1_acc_24: 1.0000 - dense_1_acc_25: 1.0000 - dense_1_acc_26: 1.0000 - dense_1_acc_27: 1.0000 - dense_1_acc_28: 1.0000 - dense_1_acc_29: 0.0000e+00\n",
      "Epoch 75/100\n",
      "60/60 [==============================] - 0s 3ms/step - loss: 7.1358 - dense_1_loss: 0.0000e+00 - dense_1_acc: 0.0333 - dense_1_acc_1: 0.6167 - dense_1_acc_2: 0.8833 - dense_1_acc_3: 0.9667 - dense_1_acc_4: 0.9833 - dense_1_acc_5: 1.0000 - dense_1_acc_6: 1.0000 - dense_1_acc_7: 1.0000 - dense_1_acc_8: 1.0000 - dense_1_acc_9: 1.0000 - dense_1_acc_10: 1.0000 - dense_1_acc_11: 1.0000 - dense_1_acc_12: 1.0000 - dense_1_acc_13: 1.0000 - dense_1_acc_14: 1.0000 - dense_1_acc_15: 1.0000 - dense_1_acc_16: 1.0000 - dense_1_acc_17: 1.0000 - dense_1_acc_18: 1.0000 - dense_1_acc_19: 1.0000 - dense_1_acc_20: 1.0000 - dense_1_acc_21: 1.0000 - dense_1_acc_22: 1.0000 - dense_1_acc_23: 1.0000 - dense_1_acc_24: 1.0000 - dense_1_acc_25: 1.0000 - dense_1_acc_26: 1.0000 - dense_1_acc_27: 1.0000 - dense_1_acc_28: 1.0000 - dense_1_acc_29: 0.0000e+00\n",
      "Epoch 76/100\n",
      "60/60 [==============================] - 0s 2ms/step - loss: 7.0638 - dense_1_loss: 0.0000e+00 - dense_1_acc: 0.0333 - dense_1_acc_1: 0.6500 - dense_1_acc_2: 0.8833 - dense_1_acc_3: 0.9833 - dense_1_acc_4: 0.9833 - dense_1_acc_5: 1.0000 - dense_1_acc_6: 1.0000 - dense_1_acc_7: 1.0000 - dense_1_acc_8: 1.0000 - dense_1_acc_9: 1.0000 - dense_1_acc_10: 1.0000 - dense_1_acc_11: 1.0000 - dense_1_acc_12: 1.0000 - dense_1_acc_13: 1.0000 - dense_1_acc_14: 1.0000 - dense_1_acc_15: 1.0000 - dense_1_acc_16: 1.0000 - dense_1_acc_17: 1.0000 - dense_1_acc_18: 1.0000 - dense_1_acc_19: 1.0000 - dense_1_acc_20: 1.0000 - dense_1_acc_21: 1.0000 - dense_1_acc_22: 1.0000 - dense_1_acc_23: 1.0000 - dense_1_acc_24: 1.0000 - dense_1_acc_25: 1.0000 - dense_1_acc_26: 1.0000 - dense_1_acc_27: 1.0000 - dense_1_acc_28: 1.0000 - dense_1_acc_29: 0.0000e+00\n",
      "Epoch 77/100\n",
      "60/60 [==============================] - 0s 2ms/step - loss: 6.9983 - dense_1_loss: 0.0000e+00 - dense_1_acc: 0.1000 - dense_1_acc_1: 0.6500 - dense_1_acc_2: 0.8833 - dense_1_acc_3: 0.9833 - dense_1_acc_4: 1.0000 - dense_1_acc_5: 1.0000 - dense_1_acc_6: 1.0000 - dense_1_acc_7: 1.0000 - dense_1_acc_8: 1.0000 - dense_1_acc_9: 1.0000 - dense_1_acc_10: 1.0000 - dense_1_acc_11: 1.0000 - dense_1_acc_12: 1.0000 - dense_1_acc_13: 1.0000 - dense_1_acc_14: 1.0000 - dense_1_acc_15: 1.0000 - dense_1_acc_16: 1.0000 - dense_1_acc_17: 1.0000 - dense_1_acc_18: 1.0000 - dense_1_acc_19: 1.0000 - dense_1_acc_20: 1.0000 - dense_1_acc_21: 1.0000 - dense_1_acc_22: 1.0000 - dense_1_acc_23: 1.0000 - dense_1_acc_24: 1.0000 - dense_1_acc_25: 1.0000 - dense_1_acc_26: 1.0000 - dense_1_acc_27: 1.0000 - dense_1_acc_28: 1.0000 - dense_1_acc_29: 0.0000e+00\n",
      "Epoch 78/100\n",
      "60/60 [==============================] - 0s 3ms/step - loss: 6.9323 - dense_1_loss: 0.0000e+00 - dense_1_acc: 0.1000 - dense_1_acc_1: 0.6500 - dense_1_acc_2: 0.8833 - dense_1_acc_3: 0.9833 - dense_1_acc_4: 1.0000 - dense_1_acc_5: 1.0000 - dense_1_acc_6: 1.0000 - dense_1_acc_7: 1.0000 - dense_1_acc_8: 1.0000 - dense_1_acc_9: 1.0000 - dense_1_acc_10: 1.0000 - dense_1_acc_11: 1.0000 - dense_1_acc_12: 1.0000 - dense_1_acc_13: 1.0000 - dense_1_acc_14: 1.0000 - dense_1_acc_15: 1.0000 - dense_1_acc_16: 1.0000 - dense_1_acc_17: 1.0000 - dense_1_acc_18: 1.0000 - dense_1_acc_19: 1.0000 - dense_1_acc_20: 1.0000 - dense_1_acc_21: 1.0000 - dense_1_acc_22: 1.0000 - dense_1_acc_23: 1.0000 - dense_1_acc_24: 1.0000 - dense_1_acc_25: 1.0000 - dense_1_acc_26: 1.0000 - dense_1_acc_27: 1.0000 - dense_1_acc_28: 1.0000 - dense_1_acc_29: 0.0000e+00\n",
      "Epoch 79/100\n",
      "60/60 [==============================] - 0s 2ms/step - loss: 6.8674 - dense_1_loss: 0.0000e+00 - dense_1_acc: 0.1000 - dense_1_acc_1: 0.6500 - dense_1_acc_2: 0.8833 - dense_1_acc_3: 1.0000 - dense_1_acc_4: 1.0000 - dense_1_acc_5: 1.0000 - dense_1_acc_6: 1.0000 - dense_1_acc_7: 1.0000 - dense_1_acc_8: 1.0000 - dense_1_acc_9: 1.0000 - dense_1_acc_10: 1.0000 - dense_1_acc_11: 1.0000 - dense_1_acc_12: 1.0000 - dense_1_acc_13: 1.0000 - dense_1_acc_14: 1.0000 - dense_1_acc_15: 1.0000 - dense_1_acc_16: 1.0000 - dense_1_acc_17: 1.0000 - dense_1_acc_18: 1.0000 - dense_1_acc_19: 1.0000 - dense_1_acc_20: 1.0000 - dense_1_acc_21: 1.0000 - dense_1_acc_22: 1.0000 - dense_1_acc_23: 1.0000 - dense_1_acc_24: 1.0000 - dense_1_acc_25: 1.0000 - dense_1_acc_26: 1.0000 - dense_1_acc_27: 1.0000 - dense_1_acc_28: 1.0000 - dense_1_acc_29: 0.0000e+00\n",
      "Epoch 80/100\n",
      "60/60 [==============================] - 0s 2ms/step - loss: 6.8088 - dense_1_loss: 0.0000e+00 - dense_1_acc: 0.1000 - dense_1_acc_1: 0.6500 - dense_1_acc_2: 0.8833 - dense_1_acc_3: 1.0000 - dense_1_acc_4: 1.0000 - dense_1_acc_5: 1.0000 - dense_1_acc_6: 1.0000 - dense_1_acc_7: 1.0000 - dense_1_acc_8: 1.0000 - dense_1_acc_9: 1.0000 - dense_1_acc_10: 1.0000 - dense_1_acc_11: 1.0000 - dense_1_acc_12: 1.0000 - dense_1_acc_13: 1.0000 - dense_1_acc_14: 1.0000 - dense_1_acc_15: 1.0000 - dense_1_acc_16: 1.0000 - dense_1_acc_17: 1.0000 - dense_1_acc_18: 1.0000 - dense_1_acc_19: 1.0000 - dense_1_acc_20: 1.0000 - dense_1_acc_21: 1.0000 - dense_1_acc_22: 1.0000 - dense_1_acc_23: 1.0000 - dense_1_acc_24: 1.0000 - dense_1_acc_25: 1.0000 - dense_1_acc_26: 1.0000 - dense_1_acc_27: 1.0000 - dense_1_acc_28: 1.0000 - dense_1_acc_29: 0.0000e+00\n",
      "Epoch 81/100\n",
      "60/60 [==============================] - 0s 2ms/step - loss: 6.7498 - dense_1_loss: 0.0000e+00 - dense_1_acc: 0.1000 - dense_1_acc_1: 0.6667 - dense_1_acc_2: 0.8833 - dense_1_acc_3: 1.0000 - dense_1_acc_4: 1.0000 - dense_1_acc_5: 1.0000 - dense_1_acc_6: 1.0000 - dense_1_acc_7: 1.0000 - dense_1_acc_8: 1.0000 - dense_1_acc_9: 1.0000 - dense_1_acc_10: 1.0000 - dense_1_acc_11: 1.0000 - dense_1_acc_12: 1.0000 - dense_1_acc_13: 1.0000 - dense_1_acc_14: 1.0000 - dense_1_acc_15: 1.0000 - dense_1_acc_16: 1.0000 - dense_1_acc_17: 1.0000 - dense_1_acc_18: 1.0000 - dense_1_acc_19: 1.0000 - dense_1_acc_20: 1.0000 - dense_1_acc_21: 1.0000 - dense_1_acc_22: 1.0000 - dense_1_acc_23: 1.0000 - dense_1_acc_24: 1.0000 - dense_1_acc_25: 1.0000 - dense_1_acc_26: 1.0000 - dense_1_acc_27: 1.0000 - dense_1_acc_28: 1.0000 - dense_1_acc_29: 0.0000e+00\n",
      "Epoch 82/100\n"
     ]
    },
    {
     "name": "stdout",
     "output_type": "stream",
     "text": [
      "60/60 [==============================] - 0s 3ms/step - loss: 6.6964 - dense_1_loss: 0.0000e+00 - dense_1_acc: 0.1000 - dense_1_acc_1: 0.6667 - dense_1_acc_2: 0.8833 - dense_1_acc_3: 1.0000 - dense_1_acc_4: 1.0000 - dense_1_acc_5: 1.0000 - dense_1_acc_6: 1.0000 - dense_1_acc_7: 1.0000 - dense_1_acc_8: 1.0000 - dense_1_acc_9: 1.0000 - dense_1_acc_10: 1.0000 - dense_1_acc_11: 1.0000 - dense_1_acc_12: 1.0000 - dense_1_acc_13: 1.0000 - dense_1_acc_14: 1.0000 - dense_1_acc_15: 1.0000 - dense_1_acc_16: 1.0000 - dense_1_acc_17: 1.0000 - dense_1_acc_18: 1.0000 - dense_1_acc_19: 1.0000 - dense_1_acc_20: 1.0000 - dense_1_acc_21: 1.0000 - dense_1_acc_22: 1.0000 - dense_1_acc_23: 1.0000 - dense_1_acc_24: 1.0000 - dense_1_acc_25: 1.0000 - dense_1_acc_26: 1.0000 - dense_1_acc_27: 1.0000 - dense_1_acc_28: 1.0000 - dense_1_acc_29: 0.0000e+00\n",
      "Epoch 83/100\n",
      "60/60 [==============================] - 0s 3ms/step - loss: 6.6401 - dense_1_loss: 0.0000e+00 - dense_1_acc: 0.1000 - dense_1_acc_1: 0.6667 - dense_1_acc_2: 0.8833 - dense_1_acc_3: 1.0000 - dense_1_acc_4: 1.0000 - dense_1_acc_5: 1.0000 - dense_1_acc_6: 1.0000 - dense_1_acc_7: 1.0000 - dense_1_acc_8: 1.0000 - dense_1_acc_9: 1.0000 - dense_1_acc_10: 1.0000 - dense_1_acc_11: 1.0000 - dense_1_acc_12: 1.0000 - dense_1_acc_13: 1.0000 - dense_1_acc_14: 1.0000 - dense_1_acc_15: 1.0000 - dense_1_acc_16: 1.0000 - dense_1_acc_17: 1.0000 - dense_1_acc_18: 1.0000 - dense_1_acc_19: 1.0000 - dense_1_acc_20: 1.0000 - dense_1_acc_21: 1.0000 - dense_1_acc_22: 1.0000 - dense_1_acc_23: 1.0000 - dense_1_acc_24: 1.0000 - dense_1_acc_25: 1.0000 - dense_1_acc_26: 1.0000 - dense_1_acc_27: 1.0000 - dense_1_acc_28: 1.0000 - dense_1_acc_29: 0.0000e+00\n",
      "Epoch 84/100\n",
      "60/60 [==============================] - 0s 2ms/step - loss: 6.5893 - dense_1_loss: 0.0000e+00 - dense_1_acc: 0.1000 - dense_1_acc_1: 0.6667 - dense_1_acc_2: 0.8833 - dense_1_acc_3: 1.0000 - dense_1_acc_4: 1.0000 - dense_1_acc_5: 1.0000 - dense_1_acc_6: 1.0000 - dense_1_acc_7: 1.0000 - dense_1_acc_8: 1.0000 - dense_1_acc_9: 1.0000 - dense_1_acc_10: 1.0000 - dense_1_acc_11: 1.0000 - dense_1_acc_12: 1.0000 - dense_1_acc_13: 1.0000 - dense_1_acc_14: 1.0000 - dense_1_acc_15: 1.0000 - dense_1_acc_16: 1.0000 - dense_1_acc_17: 1.0000 - dense_1_acc_18: 1.0000 - dense_1_acc_19: 1.0000 - dense_1_acc_20: 1.0000 - dense_1_acc_21: 1.0000 - dense_1_acc_22: 1.0000 - dense_1_acc_23: 1.0000 - dense_1_acc_24: 1.0000 - dense_1_acc_25: 1.0000 - dense_1_acc_26: 1.0000 - dense_1_acc_27: 1.0000 - dense_1_acc_28: 1.0000 - dense_1_acc_29: 0.0000e+00\n",
      "Epoch 85/100\n",
      "60/60 [==============================] - 0s 2ms/step - loss: 6.5390 - dense_1_loss: 0.0000e+00 - dense_1_acc: 0.1000 - dense_1_acc_1: 0.6667 - dense_1_acc_2: 0.9000 - dense_1_acc_3: 1.0000 - dense_1_acc_4: 1.0000 - dense_1_acc_5: 1.0000 - dense_1_acc_6: 1.0000 - dense_1_acc_7: 1.0000 - dense_1_acc_8: 1.0000 - dense_1_acc_9: 1.0000 - dense_1_acc_10: 1.0000 - dense_1_acc_11: 1.0000 - dense_1_acc_12: 1.0000 - dense_1_acc_13: 1.0000 - dense_1_acc_14: 1.0000 - dense_1_acc_15: 1.0000 - dense_1_acc_16: 1.0000 - dense_1_acc_17: 1.0000 - dense_1_acc_18: 1.0000 - dense_1_acc_19: 1.0000 - dense_1_acc_20: 1.0000 - dense_1_acc_21: 1.0000 - dense_1_acc_22: 1.0000 - dense_1_acc_23: 1.0000 - dense_1_acc_24: 1.0000 - dense_1_acc_25: 1.0000 - dense_1_acc_26: 1.0000 - dense_1_acc_27: 1.0000 - dense_1_acc_28: 1.0000 - dense_1_acc_29: 0.0000e+00\n",
      "Epoch 86/100\n",
      "60/60 [==============================] - 0s 2ms/step - loss: 6.4913 - dense_1_loss: 0.0000e+00 - dense_1_acc: 0.1000 - dense_1_acc_1: 0.6667 - dense_1_acc_2: 0.9167 - dense_1_acc_3: 1.0000 - dense_1_acc_4: 1.0000 - dense_1_acc_5: 1.0000 - dense_1_acc_6: 1.0000 - dense_1_acc_7: 1.0000 - dense_1_acc_8: 1.0000 - dense_1_acc_9: 1.0000 - dense_1_acc_10: 1.0000 - dense_1_acc_11: 1.0000 - dense_1_acc_12: 1.0000 - dense_1_acc_13: 1.0000 - dense_1_acc_14: 1.0000 - dense_1_acc_15: 1.0000 - dense_1_acc_16: 1.0000 - dense_1_acc_17: 1.0000 - dense_1_acc_18: 1.0000 - dense_1_acc_19: 1.0000 - dense_1_acc_20: 1.0000 - dense_1_acc_21: 1.0000 - dense_1_acc_22: 1.0000 - dense_1_acc_23: 1.0000 - dense_1_acc_24: 1.0000 - dense_1_acc_25: 1.0000 - dense_1_acc_26: 1.0000 - dense_1_acc_27: 1.0000 - dense_1_acc_28: 1.0000 - dense_1_acc_29: 0.0000e+00\n",
      "Epoch 87/100\n",
      "60/60 [==============================] - 0s 3ms/step - loss: 6.4458 - dense_1_loss: 0.0000e+00 - dense_1_acc: 0.1000 - dense_1_acc_1: 0.6667 - dense_1_acc_2: 0.9167 - dense_1_acc_3: 1.0000 - dense_1_acc_4: 1.0000 - dense_1_acc_5: 1.0000 - dense_1_acc_6: 1.0000 - dense_1_acc_7: 1.0000 - dense_1_acc_8: 1.0000 - dense_1_acc_9: 1.0000 - dense_1_acc_10: 1.0000 - dense_1_acc_11: 1.0000 - dense_1_acc_12: 1.0000 - dense_1_acc_13: 1.0000 - dense_1_acc_14: 1.0000 - dense_1_acc_15: 1.0000 - dense_1_acc_16: 1.0000 - dense_1_acc_17: 1.0000 - dense_1_acc_18: 1.0000 - dense_1_acc_19: 1.0000 - dense_1_acc_20: 1.0000 - dense_1_acc_21: 1.0000 - dense_1_acc_22: 1.0000 - dense_1_acc_23: 1.0000 - dense_1_acc_24: 1.0000 - dense_1_acc_25: 1.0000 - dense_1_acc_26: 1.0000 - dense_1_acc_27: 1.0000 - dense_1_acc_28: 1.0000 - dense_1_acc_29: 0.0000e+00\n",
      "Epoch 88/100\n",
      "60/60 [==============================] - 0s 3ms/step - loss: 6.3998 - dense_1_loss: 0.0000e+00 - dense_1_acc: 0.1000 - dense_1_acc_1: 0.6667 - dense_1_acc_2: 0.9167 - dense_1_acc_3: 1.0000 - dense_1_acc_4: 1.0000 - dense_1_acc_5: 1.0000 - dense_1_acc_6: 1.0000 - dense_1_acc_7: 1.0000 - dense_1_acc_8: 1.0000 - dense_1_acc_9: 1.0000 - dense_1_acc_10: 1.0000 - dense_1_acc_11: 1.0000 - dense_1_acc_12: 1.0000 - dense_1_acc_13: 1.0000 - dense_1_acc_14: 1.0000 - dense_1_acc_15: 1.0000 - dense_1_acc_16: 1.0000 - dense_1_acc_17: 1.0000 - dense_1_acc_18: 1.0000 - dense_1_acc_19: 1.0000 - dense_1_acc_20: 1.0000 - dense_1_acc_21: 1.0000 - dense_1_acc_22: 1.0000 - dense_1_acc_23: 1.0000 - dense_1_acc_24: 1.0000 - dense_1_acc_25: 1.0000 - dense_1_acc_26: 1.0000 - dense_1_acc_27: 1.0000 - dense_1_acc_28: 1.0000 - dense_1_acc_29: 0.0000e+00\n",
      "Epoch 89/100\n",
      "60/60 [==============================] - 0s 3ms/step - loss: 6.3554 - dense_1_loss: 0.0000e+00 - dense_1_acc: 0.1000 - dense_1_acc_1: 0.6833 - dense_1_acc_2: 0.9167 - dense_1_acc_3: 1.0000 - dense_1_acc_4: 1.0000 - dense_1_acc_5: 1.0000 - dense_1_acc_6: 1.0000 - dense_1_acc_7: 1.0000 - dense_1_acc_8: 1.0000 - dense_1_acc_9: 1.0000 - dense_1_acc_10: 1.0000 - dense_1_acc_11: 1.0000 - dense_1_acc_12: 1.0000 - dense_1_acc_13: 1.0000 - dense_1_acc_14: 1.0000 - dense_1_acc_15: 1.0000 - dense_1_acc_16: 1.0000 - dense_1_acc_17: 1.0000 - dense_1_acc_18: 1.0000 - dense_1_acc_19: 1.0000 - dense_1_acc_20: 1.0000 - dense_1_acc_21: 1.0000 - dense_1_acc_22: 1.0000 - dense_1_acc_23: 1.0000 - dense_1_acc_24: 1.0000 - dense_1_acc_25: 1.0000 - dense_1_acc_26: 1.0000 - dense_1_acc_27: 1.0000 - dense_1_acc_28: 1.0000 - dense_1_acc_29: 0.0000e+00\n",
      "Epoch 90/100\n",
      "60/60 [==============================] - 0s 3ms/step - loss: 6.3142 - dense_1_loss: 0.0000e+00 - dense_1_acc: 0.1000 - dense_1_acc_1: 0.6833 - dense_1_acc_2: 0.9167 - dense_1_acc_3: 1.0000 - dense_1_acc_4: 1.0000 - dense_1_acc_5: 1.0000 - dense_1_acc_6: 1.0000 - dense_1_acc_7: 1.0000 - dense_1_acc_8: 1.0000 - dense_1_acc_9: 1.0000 - dense_1_acc_10: 1.0000 - dense_1_acc_11: 1.0000 - dense_1_acc_12: 1.0000 - dense_1_acc_13: 1.0000 - dense_1_acc_14: 1.0000 - dense_1_acc_15: 1.0000 - dense_1_acc_16: 1.0000 - dense_1_acc_17: 1.0000 - dense_1_acc_18: 1.0000 - dense_1_acc_19: 1.0000 - dense_1_acc_20: 1.0000 - dense_1_acc_21: 1.0000 - dense_1_acc_22: 1.0000 - dense_1_acc_23: 1.0000 - dense_1_acc_24: 1.0000 - dense_1_acc_25: 1.0000 - dense_1_acc_26: 1.0000 - dense_1_acc_27: 1.0000 - dense_1_acc_28: 1.0000 - dense_1_acc_29: 0.0000e+00\n",
      "Epoch 91/100\n"
     ]
    },
    {
     "name": "stdout",
     "output_type": "stream",
     "text": [
      "60/60 [==============================] - 0s 2ms/step - loss: 6.2743 - dense_1_loss: 0.0000e+00 - dense_1_acc: 0.1000 - dense_1_acc_1: 0.6833 - dense_1_acc_2: 0.9167 - dense_1_acc_3: 1.0000 - dense_1_acc_4: 1.0000 - dense_1_acc_5: 1.0000 - dense_1_acc_6: 1.0000 - dense_1_acc_7: 1.0000 - dense_1_acc_8: 1.0000 - dense_1_acc_9: 1.0000 - dense_1_acc_10: 1.0000 - dense_1_acc_11: 1.0000 - dense_1_acc_12: 1.0000 - dense_1_acc_13: 1.0000 - dense_1_acc_14: 1.0000 - dense_1_acc_15: 1.0000 - dense_1_acc_16: 1.0000 - dense_1_acc_17: 1.0000 - dense_1_acc_18: 1.0000 - dense_1_acc_19: 1.0000 - dense_1_acc_20: 1.0000 - dense_1_acc_21: 1.0000 - dense_1_acc_22: 1.0000 - dense_1_acc_23: 1.0000 - dense_1_acc_24: 1.0000 - dense_1_acc_25: 1.0000 - dense_1_acc_26: 1.0000 - dense_1_acc_27: 1.0000 - dense_1_acc_28: 1.0000 - dense_1_acc_29: 0.0000e+00\n",
      "Epoch 92/100\n",
      "60/60 [==============================] - 0s 2ms/step - loss: 6.2333 - dense_1_loss: 0.0000e+00 - dense_1_acc: 0.1000 - dense_1_acc_1: 0.6833 - dense_1_acc_2: 0.9167 - dense_1_acc_3: 1.0000 - dense_1_acc_4: 1.0000 - dense_1_acc_5: 1.0000 - dense_1_acc_6: 1.0000 - dense_1_acc_7: 1.0000 - dense_1_acc_8: 1.0000 - dense_1_acc_9: 1.0000 - dense_1_acc_10: 1.0000 - dense_1_acc_11: 1.0000 - dense_1_acc_12: 1.0000 - dense_1_acc_13: 1.0000 - dense_1_acc_14: 1.0000 - dense_1_acc_15: 1.0000 - dense_1_acc_16: 1.0000 - dense_1_acc_17: 1.0000 - dense_1_acc_18: 1.0000 - dense_1_acc_19: 1.0000 - dense_1_acc_20: 1.0000 - dense_1_acc_21: 1.0000 - dense_1_acc_22: 1.0000 - dense_1_acc_23: 1.0000 - dense_1_acc_24: 1.0000 - dense_1_acc_25: 1.0000 - dense_1_acc_26: 1.0000 - dense_1_acc_27: 1.0000 - dense_1_acc_28: 1.0000 - dense_1_acc_29: 0.0000e+00\n",
      "Epoch 93/100\n",
      "60/60 [==============================] - 0s 2ms/step - loss: 6.1954 - dense_1_loss: 0.0000e+00 - dense_1_acc: 0.1000 - dense_1_acc_1: 0.6833 - dense_1_acc_2: 0.9167 - dense_1_acc_3: 1.0000 - dense_1_acc_4: 1.0000 - dense_1_acc_5: 1.0000 - dense_1_acc_6: 1.0000 - dense_1_acc_7: 1.0000 - dense_1_acc_8: 1.0000 - dense_1_acc_9: 1.0000 - dense_1_acc_10: 1.0000 - dense_1_acc_11: 1.0000 - dense_1_acc_12: 1.0000 - dense_1_acc_13: 1.0000 - dense_1_acc_14: 1.0000 - dense_1_acc_15: 1.0000 - dense_1_acc_16: 1.0000 - dense_1_acc_17: 1.0000 - dense_1_acc_18: 1.0000 - dense_1_acc_19: 1.0000 - dense_1_acc_20: 1.0000 - dense_1_acc_21: 1.0000 - dense_1_acc_22: 1.0000 - dense_1_acc_23: 1.0000 - dense_1_acc_24: 1.0000 - dense_1_acc_25: 1.0000 - dense_1_acc_26: 1.0000 - dense_1_acc_27: 1.0000 - dense_1_acc_28: 1.0000 - dense_1_acc_29: 0.0000e+00\n",
      "Epoch 94/100\n",
      "60/60 [==============================] - 0s 2ms/step - loss: 6.1585 - dense_1_loss: 0.0000e+00 - dense_1_acc: 0.1000 - dense_1_acc_1: 0.6833 - dense_1_acc_2: 0.9167 - dense_1_acc_3: 1.0000 - dense_1_acc_4: 1.0000 - dense_1_acc_5: 1.0000 - dense_1_acc_6: 1.0000 - dense_1_acc_7: 1.0000 - dense_1_acc_8: 1.0000 - dense_1_acc_9: 1.0000 - dense_1_acc_10: 1.0000 - dense_1_acc_11: 1.0000 - dense_1_acc_12: 1.0000 - dense_1_acc_13: 1.0000 - dense_1_acc_14: 1.0000 - dense_1_acc_15: 1.0000 - dense_1_acc_16: 1.0000 - dense_1_acc_17: 1.0000 - dense_1_acc_18: 1.0000 - dense_1_acc_19: 1.0000 - dense_1_acc_20: 1.0000 - dense_1_acc_21: 1.0000 - dense_1_acc_22: 1.0000 - dense_1_acc_23: 1.0000 - dense_1_acc_24: 1.0000 - dense_1_acc_25: 1.0000 - dense_1_acc_26: 1.0000 - dense_1_acc_27: 1.0000 - dense_1_acc_28: 1.0000 - dense_1_acc_29: 0.0000e+00\n",
      "Epoch 95/100\n",
      "60/60 [==============================] - 0s 2ms/step - loss: 6.1221 - dense_1_loss: 0.0000e+00 - dense_1_acc: 0.1000 - dense_1_acc_1: 0.6833 - dense_1_acc_2: 0.9333 - dense_1_acc_3: 1.0000 - dense_1_acc_4: 1.0000 - dense_1_acc_5: 1.0000 - dense_1_acc_6: 1.0000 - dense_1_acc_7: 1.0000 - dense_1_acc_8: 1.0000 - dense_1_acc_9: 1.0000 - dense_1_acc_10: 1.0000 - dense_1_acc_11: 1.0000 - dense_1_acc_12: 1.0000 - dense_1_acc_13: 1.0000 - dense_1_acc_14: 1.0000 - dense_1_acc_15: 1.0000 - dense_1_acc_16: 1.0000 - dense_1_acc_17: 1.0000 - dense_1_acc_18: 1.0000 - dense_1_acc_19: 1.0000 - dense_1_acc_20: 1.0000 - dense_1_acc_21: 1.0000 - dense_1_acc_22: 1.0000 - dense_1_acc_23: 1.0000 - dense_1_acc_24: 1.0000 - dense_1_acc_25: 1.0000 - dense_1_acc_26: 1.0000 - dense_1_acc_27: 1.0000 - dense_1_acc_28: 1.0000 - dense_1_acc_29: 0.0000e+00\n",
      "Epoch 96/100\n",
      "60/60 [==============================] - 0s 2ms/step - loss: 6.0870 - dense_1_loss: 0.0000e+00 - dense_1_acc: 0.1000 - dense_1_acc_1: 0.6833 - dense_1_acc_2: 0.9333 - dense_1_acc_3: 1.0000 - dense_1_acc_4: 1.0000 - dense_1_acc_5: 1.0000 - dense_1_acc_6: 1.0000 - dense_1_acc_7: 1.0000 - dense_1_acc_8: 1.0000 - dense_1_acc_9: 1.0000 - dense_1_acc_10: 1.0000 - dense_1_acc_11: 1.0000 - dense_1_acc_12: 1.0000 - dense_1_acc_13: 1.0000 - dense_1_acc_14: 1.0000 - dense_1_acc_15: 1.0000 - dense_1_acc_16: 1.0000 - dense_1_acc_17: 1.0000 - dense_1_acc_18: 1.0000 - dense_1_acc_19: 1.0000 - dense_1_acc_20: 1.0000 - dense_1_acc_21: 1.0000 - dense_1_acc_22: 1.0000 - dense_1_acc_23: 1.0000 - dense_1_acc_24: 1.0000 - dense_1_acc_25: 1.0000 - dense_1_acc_26: 1.0000 - dense_1_acc_27: 1.0000 - dense_1_acc_28: 1.0000 - dense_1_acc_29: 0.0000e+00\n",
      "Epoch 97/100\n",
      "60/60 [==============================] - 0s 3ms/step - loss: 6.0520 - dense_1_loss: 0.0000e+00 - dense_1_acc: 0.1000 - dense_1_acc_1: 0.6833 - dense_1_acc_2: 0.9333 - dense_1_acc_3: 1.0000 - dense_1_acc_4: 1.0000 - dense_1_acc_5: 1.0000 - dense_1_acc_6: 1.0000 - dense_1_acc_7: 1.0000 - dense_1_acc_8: 1.0000 - dense_1_acc_9: 1.0000 - dense_1_acc_10: 1.0000 - dense_1_acc_11: 1.0000 - dense_1_acc_12: 1.0000 - dense_1_acc_13: 1.0000 - dense_1_acc_14: 1.0000 - dense_1_acc_15: 1.0000 - dense_1_acc_16: 1.0000 - dense_1_acc_17: 1.0000 - dense_1_acc_18: 1.0000 - dense_1_acc_19: 1.0000 - dense_1_acc_20: 1.0000 - dense_1_acc_21: 1.0000 - dense_1_acc_22: 1.0000 - dense_1_acc_23: 1.0000 - dense_1_acc_24: 1.0000 - dense_1_acc_25: 1.0000 - dense_1_acc_26: 1.0000 - dense_1_acc_27: 1.0000 - dense_1_acc_28: 1.0000 - dense_1_acc_29: 0.0000e+00\n",
      "Epoch 98/100\n",
      "60/60 [==============================] - 0s 3ms/step - loss: 6.0204 - dense_1_loss: 0.0000e+00 - dense_1_acc: 0.1000 - dense_1_acc_1: 0.6833 - dense_1_acc_2: 0.9333 - dense_1_acc_3: 1.0000 - dense_1_acc_4: 1.0000 - dense_1_acc_5: 1.0000 - dense_1_acc_6: 1.0000 - dense_1_acc_7: 1.0000 - dense_1_acc_8: 1.0000 - dense_1_acc_9: 1.0000 - dense_1_acc_10: 1.0000 - dense_1_acc_11: 1.0000 - dense_1_acc_12: 1.0000 - dense_1_acc_13: 1.0000 - dense_1_acc_14: 1.0000 - dense_1_acc_15: 1.0000 - dense_1_acc_16: 1.0000 - dense_1_acc_17: 1.0000 - dense_1_acc_18: 1.0000 - dense_1_acc_19: 1.0000 - dense_1_acc_20: 1.0000 - dense_1_acc_21: 1.0000 - dense_1_acc_22: 1.0000 - dense_1_acc_23: 1.0000 - dense_1_acc_24: 1.0000 - dense_1_acc_25: 1.0000 - dense_1_acc_26: 1.0000 - dense_1_acc_27: 1.0000 - dense_1_acc_28: 1.0000 - dense_1_acc_29: 0.0000e+00\n",
      "Epoch 99/100\n",
      "60/60 [==============================] - 0s 3ms/step - loss: 5.9882 - dense_1_loss: 0.0000e+00 - dense_1_acc: 0.1000 - dense_1_acc_1: 0.6833 - dense_1_acc_2: 0.9333 - dense_1_acc_3: 1.0000 - dense_1_acc_4: 1.0000 - dense_1_acc_5: 1.0000 - dense_1_acc_6: 1.0000 - dense_1_acc_7: 1.0000 - dense_1_acc_8: 1.0000 - dense_1_acc_9: 1.0000 - dense_1_acc_10: 1.0000 - dense_1_acc_11: 1.0000 - dense_1_acc_12: 1.0000 - dense_1_acc_13: 1.0000 - dense_1_acc_14: 1.0000 - dense_1_acc_15: 1.0000 - dense_1_acc_16: 1.0000 - dense_1_acc_17: 1.0000 - dense_1_acc_18: 1.0000 - dense_1_acc_19: 1.0000 - dense_1_acc_20: 1.0000 - dense_1_acc_21: 1.0000 - dense_1_acc_22: 1.0000 - dense_1_acc_23: 1.0000 - dense_1_acc_24: 1.0000 - dense_1_acc_25: 1.0000 - dense_1_acc_26: 1.0000 - dense_1_acc_27: 1.0000 - dense_1_acc_28: 1.0000 - dense_1_acc_29: 0.0000e+00\n",
      "Epoch 100/100\n"
     ]
    },
    {
     "name": "stdout",
     "output_type": "stream",
     "text": [
      "32/60 [===============>..............] - ETA: 0s - loss: 6.0101 - dense_1_loss: 0.0000e+00 - dense_1_acc: 0.0938 - dense_1_acc_1: 0.6875 - dense_1_acc_2: 0.9062 - dense_1_acc_3: 1.0000 - dense_1_acc_4: 1.0000 - dense_1_acc_5: 1.0000 - dense_1_acc_6: 1.0000 - dense_1_acc_7: 1.0000 - dense_1_acc_8: 1.0000 - dense_1_acc_9: 1.0000 - dense_1_acc_10: 1.0000 - dense_1_acc_11: 1.0000 - dense_1_acc_12: 1.0000 - dense_1_acc_13: 1.0000 - dense_1_acc_14: 1.0000 - dense_1_acc_15: 1.0000 - dense_1_acc_16: 1.0000 - dense_1_acc_17: 1.0000 - dense_1_acc_18: 1.0000 - dense_1_acc_19: 1.0000 - dense_1_acc_20: 1.0000 - dense_1_acc_21: 1.0000 - dense_1_acc_22: 1.0000 - dense_1_acc_23: 1.0000 - dense_1_acc_24: 1.0000 - dense_1_acc_25: 1.0000 - dense_1_acc_26: 1.0000 - dense_1_acc_27: 1.0000 - dense_1_acc_28: 1.0000 - dense_1_acc_29: 0.0000e+00\b\b\b\b\b\b\b\b\b\b\b\b\b\b\b\b\b\b\b\b\b\b\b\b\b\b\b\b\b\b\b\b\b\b\b\b\b\b\b\b\b\b\b\b\b\b\b\b\b\b\b\b\b\b\b\b\b\b\b\b\b\b\b\b\b\b\b\b\b\b\b\b\b\b\b\b\b\b\b\b\b\b\b\b\b\b\b\b\b\b\b\b\b\b\b\b\b\b\b\b\b\b\b\b\b\b\b\b\b\b\b\b\b\b\b\b\b\b\b\b\b\b\b\b\b\b\b\b\b\b\b\b\b\b\b\b\b\b\b\b\b\b\b\b\b\b\b\b\b\b\b\b\b\b\b\b\b\b\b\b\b\b\b\b\b\b\b\b\b\b\b\b\b\b\b\b\b\b\b\b\b\b\b\b\b\b\b\b\b\b\b\b\b\b\b\b\b\b\b\b\b\b\b\b\b\b\b\b\b\b\b\b\b\b\b\b\b\b\b\b\b\b\b\b\b\b\b\b\b\b\b\b\b\b\b\b\b\b\b\b\b\b\b\b\b\b\b\b\b\b\b\b\b\b\b\b\b\b\b\b\b\b\b\b\b\b\b\b\b\b\b\b\b\b\b\b\b\b\b\b\b\b\b\b\b\b\b\b\b\b\b\b\b\b\b\b\b\b\b\b\b\b\b\b\b\b\b\b\b\b\b\b\b\b\b\b\b\b\b\b\b\b\b\b\b\b\b\b\b\b\b\b\b\b\b\b\b\b\b\b\b\b\b\b\b\b\b\b\b\b\b\b\b\b\b\b\b\b\b\b\b\b\b\b\b\b\b\b\b\b\b\b\b\b\b\b\b\b\b\b\b\b\b\b\b\b\b\b\b\b\b\b\b\b\b\b\b\b\b\b\b\b\b\b\b\b\b\b\b\b\b\b\b\b\b\b\b\b\b\b\b\b\b\b\b\b\b\b\b\b\b\b\b\b\b\b\b\b\b\b\b\b\b\b\b\b\b\b\b\b\b\b\b\b\b\b\b\b\b\b\b\b\b\b\b\b\b\b\b\b\b\b\b\b\b\b\b\b\b\b\b\b\b\b\b\b\b\b\b\b\b\b\b\b\b\b\b\b\b\b\b\b\b\b\b\b\b\b\b\b\b\b\b\b\b\b\b\b\b\b\b\b\b\b\b\b\b\b\b\b\b\b\b\b\b\b\b\b\b\b\b\b\b\b\b\b\b\b\b\b\b\b\b\b\b\b\b\b\b\b\b\b\b\b\b\b\b\b\b\b\b\b\b\b\b\b\b\b\b\b\b\b\b\b\b\b\b\b\b\b\b\b\b\b\b\b\b\b\b\b\b\b\b\b\b\b\b\b\b\b\b\b\b\b\b\b\b\b\b\b\b\b\b\b\b\b\b\b\b\b\b\b\b\b\b\b\b\b\b\b\b\b\b\b\b\b\b\b\b\b\b\b\b\b\b\b\b\b\b\b\b\b\b\b\b\b\b\b\b\b\b\b\b\b\b\b\b\b\b\b\b\b\b\b\b\b\b\b\b\b\b\b\b\b\b\b\b\b\b\b\b\b\b\b\b\b\b\b\b\b\b\b\b\b\b\b\b\b\b\b\b\b\b\b\b\b\b\b\b\b\b\b\b\b\b\b\b\b\b\b\b\b\b\b\b\b\b\b\b\b\b\b\b\b\b\b\b\b\b\b\b\b\b\b\b\b\b\b\b\b\b\b\b\b\b\b\b\b\b\b\b\b\b\b\b\b\b\b\b\b\b\b\b\b\b\b\b\b\b\b\b\b\b\b\b\b\b\b\b\b\b\b\b\b\b\b\b\b\b\b\b\b\b\b\b\b\b\b\b\b\b\b\r",
      "60/60 [==============================] - 0s 3ms/step - loss: 5.9570 - dense_1_loss: 0.0000e+00 - dense_1_acc: 0.1000 - dense_1_acc_1: 0.6833 - dense_1_acc_2: 0.9333 - dense_1_acc_3: 1.0000 - dense_1_acc_4: 1.0000 - dense_1_acc_5: 1.0000 - dense_1_acc_6: 1.0000 - dense_1_acc_7: 1.0000 - dense_1_acc_8: 1.0000 - dense_1_acc_9: 1.0000 - dense_1_acc_10: 1.0000 - dense_1_acc_11: 1.0000 - dense_1_acc_12: 1.0000 - dense_1_acc_13: 1.0000 - dense_1_acc_14: 1.0000 - dense_1_acc_15: 1.0000 - dense_1_acc_16: 1.0000 - dense_1_acc_17: 1.0000 - dense_1_acc_18: 1.0000 - dense_1_acc_19: 1.0000 - dense_1_acc_20: 1.0000 - dense_1_acc_21: 1.0000 - dense_1_acc_22: 1.0000 - dense_1_acc_23: 1.0000 - dense_1_acc_24: 1.0000 - dense_1_acc_25: 1.0000 - dense_1_acc_26: 1.0000 - dense_1_acc_27: 1.0000 - dense_1_acc_28: 1.0000 - dense_1_acc_29: 0.0000e+00\n"
     ]
    },
    {
     "data": {
      "text/plain": [
       "<keras.callbacks.History at 0x12877ae10>"
      ]
     },
     "execution_count": 9,
     "metadata": {},
     "output_type": "execute_result"
    }
   ],
   "source": [
    "model.fit([X, a0, c0], list(Y), epochs=100)"
   ]
  },
  {
   "cell_type": "markdown",
   "metadata": {},
   "source": [
    "You should see the model loss going down. Now that you have trained a model, lets go on the the final section to implement an inference algorithm, and generate some music! "
   ]
  },
  {
   "cell_type": "markdown",
   "metadata": {},
   "source": [
    "## 3 - Generating music\n",
    "\n",
    "You now have a trained model which has learned the patterns of the jazz soloist. Lets now use this model to synthesize new music. \n",
    "\n",
    "#### 3.1 - Predicting & Sampling\n",
    "\n",
    "<img src=\"images/music_gen.png\" style=\"width:600;height:400px;\">\n",
    "\n",
    "At each step of sampling, you will take as input the activation `a` and cell state `c` from the previous state of the LSTM, forward propagate by one step, and get a new output activation as well as cell state. The new activation `a` can then be used to generate the output, using `densor` as before. \n",
    "\n",
    "To start off the model, we will initialize `x0` as well as the LSTM activation and and cell value `a0` and `c0` to be zeros. \n",
    "\n",
    "\n",
    "<!-- \n",
    "You are about to build a function that will do this inference for you. Your function takes in your previous model and the number of time steps `Ty` that you want to sample. It will return a keras model that would be able to generate sequences for you. Furthermore, the function takes in a dense layer of `78` units and the number of activations. \n",
    "!--> \n",
    "\n",
    "\n",
    "**Exercise:** Implement the function below to sample a sequence of musical values. Here are some of the key steps you'll need to implement inside the for-loop that generates the $T_y$ output characters: \n",
    "\n",
    "Step 2.A: Use `LSTM_Cell`, which inputs the previous step's `c` and `a` to generate the current step's `c` and `a`. \n",
    "\n",
    "Step 2.B: Use `densor` (defined previously) to compute a softmax on `a` to get the output for the current step. \n",
    "\n",
    "Step 2.C: Save the output you have just generated by appending it to `outputs`.\n",
    "\n",
    "Step 2.D: Sample x to the be \"out\"'s one-hot version (the prediction) so that you can pass it to the next LSTM's step.  We have already provided this line of code, which uses a [Lambda](https://keras.io/layers/core/#lambda) function. \n",
    "```python\n",
    "x = Lambda(one_hot)(out) \n",
    "```\n",
    "[Minor technical note: Rather than sampling a value at random according to the probabilities in `out`, this line of code actually chooses the single most likely note at each step using an argmax.]\n"
   ]
  },
  {
   "cell_type": "code",
   "execution_count": 10,
   "metadata": {},
   "outputs": [],
   "source": [
    "# GRADED FUNCTION: music_inference_model\n",
    "\n",
    "def music_inference_model(LSTM_cell, densor, n_values = 78, n_a = 64, Ty = 100):\n",
    "    \"\"\"\n",
    "    Uses the trained \"LSTM_cell\" and \"densor\" from model() to generate a sequence of values.\n",
    "    \n",
    "    Arguments:\n",
    "    LSTM_cell -- the trained \"LSTM_cell\" from model(), Keras layer object\n",
    "    densor -- the trained \"densor\" from model(), Keras layer object\n",
    "    n_values -- integer, umber of unique values\n",
    "    n_a -- number of units in the LSTM_cell\n",
    "    Ty -- integer, number of time steps to generate\n",
    "    \n",
    "    Returns:\n",
    "    inference_model -- Keras model instance\n",
    "    \"\"\"\n",
    "    \n",
    "    # Define the input of your model with a shape \n",
    "    x0 = Input(shape=(1, n_values))\n",
    "    \n",
    "    # Define s0, initial hidden state for the decoder LSTM\n",
    "    a0 = Input(shape=(n_a,), name='a0')\n",
    "    c0 = Input(shape=(n_a,), name='c0')\n",
    "    a = a0\n",
    "    c = c0\n",
    "    x = x0\n",
    "\n",
    "    ### START CODE HERE ###\n",
    "    # Step 1: Create an empty list of \"outputs\" to later store your predicted values (≈1 line)\n",
    "    outputs = list()\n",
    "    \n",
    "    # Step 2: Loop over Ty and generate a value at every time step\n",
    "    for t in range(Ty):\n",
    "        \n",
    "        # Step 2.A: Perform one step of LSTM_cell (≈1 line)\n",
    "        a, _, c = LSTM_cell(x, initial_state=[a, c])\n",
    "        \n",
    "        # Step 2.B: Apply Dense layer to the hidden state output of the LSTM_cell (≈1 line)\n",
    "        out = densor(a)\n",
    "\n",
    "        # Step 2.C: Append the prediction \"out\" to \"outputs\". out.shape = (None, 78) (≈1 line)\n",
    "        outputs.append(out)\n",
    "        \n",
    "        # Step 2.D: Select the next value according to \"out\", and set \"x\" to be the one-hot representation of the\n",
    "        #           selected value, which will be passed as the input to LSTM_cell on the next step. We have provided \n",
    "        #           the line of code you need to do this. \n",
    "        x = Lambda(one_hot)(out)\n",
    "        \n",
    "    # Step 3: Create model instance with the correct \"inputs\" and \"outputs\" (≈1 line)\n",
    "    inference_model = Model(inputs=[x0,a0,c0], outputs=outputs)\n",
    "    \n",
    "    ### END CODE HERE ###\n",
    "    \n",
    "    return inference_model"
   ]
  },
  {
   "cell_type": "markdown",
   "metadata": {},
   "source": [
    "Run the cell below to define your inference model. This model is hard coded to generate 50 values."
   ]
  },
  {
   "cell_type": "code",
   "execution_count": 11,
   "metadata": {},
   "outputs": [],
   "source": [
    "inference_model = music_inference_model(LSTM_cell, densor, n_values = 78, n_a = 64, Ty = 50)"
   ]
  },
  {
   "cell_type": "markdown",
   "metadata": {},
   "source": [
    "Finally, this creates the zero-valued vectors you will use to initialize `x` and the LSTM state variables `a` and `c`. "
   ]
  },
  {
   "cell_type": "code",
   "execution_count": 12,
   "metadata": {},
   "outputs": [],
   "source": [
    "x_initializer = np.zeros((1, 1, 78))\n",
    "a_initializer = np.zeros((1, n_a))\n",
    "c_initializer = np.zeros((1, n_a))"
   ]
  },
  {
   "cell_type": "markdown",
   "metadata": {},
   "source": [
    "**Exercise**: Implement `predict_and_sample()`. This function takes many arguments including the inputs [x_initializer, a_initializer, c_initializer]. In order to predict the output corresponding to this input, you will need to carry-out 3 steps:\n",
    "1. Use your inference model to predict an output given your set of inputs. The output `pred` should be a list of length 20 where each element is a numpy-array of shape ($T_y$, n_values)\n",
    "2. Convert `pred` into a numpy array of $T_y$ indices. Each index corresponds is computed by taking the `argmax` of an element of the `pred` list. [Hint](https://docs.scipy.org/doc/numpy/reference/generated/numpy.argmax.html).\n",
    "3. Convert the indices into their one-hot vector representations. [Hint](https://keras.io/utils/#to_categorical)."
   ]
  },
  {
   "cell_type": "code",
   "execution_count": 13,
   "metadata": {},
   "outputs": [],
   "source": [
    "# GRADED FUNCTION: predict_and_sample\n",
    "\n",
    "def predict_and_sample(inference_model, x_initializer = x_initializer, a_initializer = a_initializer, \n",
    "                       c_initializer = c_initializer):\n",
    "    \"\"\"\n",
    "    Predicts the next value of values using the inference model.\n",
    "    \n",
    "    Arguments:\n",
    "    inference_model -- Keras model instance for inference time\n",
    "    x_initializer -- numpy array of shape (1, 1, 78), one-hot vector initializing the values generation\n",
    "    a_initializer -- numpy array of shape (1, n_a), initializing the hidden state of the LSTM_cell\n",
    "    c_initializer -- numpy array of shape (1, n_a), initializing the cell state of the LSTM_cel\n",
    "    \n",
    "    Returns:\n",
    "    results -- numpy-array of shape (Ty, 78), matrix of one-hot vectors representing the values generated\n",
    "    indices -- numpy-array of shape (Ty, 1), matrix of indices representing the values generated\n",
    "    \"\"\"\n",
    "    \n",
    "    ### START CODE HERE ###\n",
    "    # Step 1: Use your inference model to predict an output sequence given x_initializer, a_initializer and c_initializer.\n",
    "    pred = inference_model.predict([x_initializer, a_initializer, c_initializer])\n",
    "\n",
    "    # Step 2: Convert \"pred\" into an np.array() of indices with the maximum probabilities\n",
    "    indices = np.array(np.argmax(pred, axis = 2))\n",
    "    \n",
    "    # Step 3: Convert indices to one-hot vectors, the shape of the results should be (1, )\n",
    "    results = to_categorical(indices, num_classes=n_values)\n",
    "    \n",
    "    ### END CODE HERE ###\n",
    "    \n",
    "    return results, indices"
   ]
  },
  {
   "cell_type": "code",
   "execution_count": 14,
   "metadata": {},
   "outputs": [
    {
     "name": "stdout",
     "output_type": "stream",
     "text": [
      "np.argmax(results[12]) = 13\n",
      "np.argmax(results[17]) = 9\n",
      "list(indices[12:18]) = [array([13]), array([59]), array([13]), array([28]), array([56]), array([9])]\n"
     ]
    }
   ],
   "source": [
    "results, indices = predict_and_sample(inference_model, x_initializer, a_initializer, c_initializer)\n",
    "print(\"np.argmax(results[12]) =\", np.argmax(results[12]))\n",
    "print(\"np.argmax(results[17]) =\", np.argmax(results[17]))\n",
    "print(\"list(indices[12:18]) =\", list(indices[12:18]))"
   ]
  },
  {
   "cell_type": "markdown",
   "metadata": {},
   "source": [
    "**Expected Output**: Your results may differ because Keras' results are not completely predictable. However, if you have trained your LSTM_cell with model.fit() for exactly 100 epochs as described above, you should very likely observe a sequence of indices that are not all identical. Moreover, you should observe that: np.argmax(results[12]) is the first element of list(indices[12:18]) and np.argmax(results[17]) is the last element of list(indices[12:18]). \n",
    "\n",
    "<table>\n",
    "    <tr>\n",
    "        <td>\n",
    "            **np.argmax(results[12])** =\n",
    "        </td>\n",
    "        <td>\n",
    "        1\n",
    "        </td>\n",
    "    </tr>\n",
    "    <tr>\n",
    "        <td>\n",
    "            **np.argmax(results[12])** =\n",
    "        </td>\n",
    "        <td>\n",
    "        42\n",
    "        </td>\n",
    "    </tr>\n",
    "    <tr>\n",
    "        <td>\n",
    "            **list(indices[12:18])** =\n",
    "        </td>\n",
    "        <td>\n",
    "            [array([1]), array([42]), array([54]), array([17]), array([1]), array([42])]\n",
    "        </td>\n",
    "    </tr>\n",
    "</table>"
   ]
  },
  {
   "cell_type": "markdown",
   "metadata": {},
   "source": [
    "#### 3.3 - Generate music \n",
    "\n",
    "Finally, you are ready to generate music. Your RNN generates a sequence of values. The following code generates music by first calling your `predict_and_sample()` function. These values are then post-processed into musical chords (meaning that multiple values or notes can be played at the same time). \n",
    "\n",
    "Most computational music algorithms use some post-processing because it is difficult to generate music that sounds good without such post-processing. The post-processing does things such as clean up the generated audio by making sure the same sound is not repeated too many times, that two successive notes are not too far from each other in pitch, and so on. One could argue that a lot of these post-processing steps are hacks; also, a lot the music generation literature has also focused on hand-crafting post-processors, and a lot of the output quality depends on the quality of the post-processing and not just the quality of the RNN. But this post-processing does make a huge difference, so lets use it in our implementation as well. \n",
    "\n",
    "Lets make some music! "
   ]
  },
  {
   "cell_type": "markdown",
   "metadata": {},
   "source": [
    "Run the following cell to generate music and record it into your `out_stream`. This can take a couple of minutes."
   ]
  },
  {
   "cell_type": "code",
   "execution_count": 15,
   "metadata": {
    "scrolled": false
   },
   "outputs": [
    {
     "name": "stdout",
     "output_type": "stream",
     "text": [
      "Predicting new values for different set of chords.\n",
      "Generated 51 sounds using the predicted values for the set of chords (\"1\") and after pruning\n",
      "Generated 51 sounds using the predicted values for the set of chords (\"2\") and after pruning\n",
      "Generated 51 sounds using the predicted values for the set of chords (\"3\") and after pruning\n",
      "Generated 51 sounds using the predicted values for the set of chords (\"4\") and after pruning\n",
      "Generated 51 sounds using the predicted values for the set of chords (\"5\") and after pruning\n",
      "Your generated music is saved in output/my_music.midi\n"
     ]
    }
   ],
   "source": [
    "out_stream = generate_music(inference_model)"
   ]
  },
  {
   "cell_type": "markdown",
   "metadata": {},
   "source": [
    "To listen to your music, click File->Open... Then go to \"output/\" and download \"my_music.midi\". Either play it on your computer with an application that can read midi files if you have one, or use one of the free online \"MIDI to mp3\" conversion tools to convert this to mp3.  \n",
    "\n",
    "As reference, here also is a 30sec audio clip we generated using this algorithm. "
   ]
  },
  {
   "cell_type": "code",
   "execution_count": null,
   "metadata": {},
   "outputs": [],
   "source": [
    "IPython.display.Audio('./data/30s_trained_model.mp3')"
   ]
  },
  {
   "cell_type": "markdown",
   "metadata": {},
   "source": [
    "### Congratulations!\n",
    "\n",
    "You have come to the end of the notebook. \n",
    "\n",
    "<font color=\"blue\">\n",
    "Here's what you should remember:\n",
    "- A sequence model can be used to generate musical values, which are then post-processed into midi music. \n",
    "- Fairly similar models can be used to generate dinosaur names or to generate music, with the major difference being the input fed to the model.  \n",
    "- In Keras, sequence generation involves defining layers with shared weights, which are then repeated for the different time steps $1, \\ldots, T_x$. "
   ]
  },
  {
   "cell_type": "markdown",
   "metadata": {},
   "source": [
    "Congratulations on completing this assignment and generating a jazz solo! "
   ]
  },
  {
   "cell_type": "markdown",
   "metadata": {},
   "source": [
    "**References**\n",
    "\n",
    "The ideas presented in this notebook came primarily from three computational music papers cited below. The implementation here also took significant inspiration and used many components from Ji-Sung Kim's github repository.\n",
    "\n",
    "- Ji-Sung Kim, 2016, [deepjazz](https://github.com/jisungk/deepjazz)\n",
    "- Jon Gillick, Kevin Tang and Robert Keller, 2009. [Learning Jazz Grammars](http://ai.stanford.edu/~kdtang/papers/smc09-jazzgrammar.pdf)\n",
    "- Robert Keller and David Morrison, 2007, [A Grammatical Approach to Automatic Improvisation](http://smc07.uoa.gr/SMC07%20Proceedings/SMC07%20Paper%2055.pdf)\n",
    "- François Pachet, 1999, [Surprising Harmonies](http://citeseerx.ist.psu.edu/viewdoc/download?doi=10.1.1.5.7473&rep=rep1&type=pdf)\n",
    "\n",
    "We're also grateful to François Germain for valuable feedback."
   ]
  }
 ],
 "metadata": {
  "coursera": {
   "course_slug": "nlp-sequence-models",
   "graded_item_id": "EG0F7",
   "launcher_item_id": "cxJXc"
  },
  "kernelspec": {
   "display_name": "Python 3",
   "language": "python",
   "name": "python3"
  },
  "language_info": {
   "codemirror_mode": {
    "name": "ipython",
    "version": 3
   },
   "file_extension": ".py",
   "mimetype": "text/x-python",
   "name": "python",
   "nbconvert_exporter": "python",
   "pygments_lexer": "ipython3",
   "version": "3.6.8"
  }
 },
 "nbformat": 4,
 "nbformat_minor": 2
}
